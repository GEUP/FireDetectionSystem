{
 "cells": [
  {
   "cell_type": "code",
   "execution_count": 1,
   "metadata": {},
   "outputs": [],
   "source": [
    "#HTML과 XML 문서를 파싱하기위한 파이썬 패키지 다운로드\n",
    "#!pip install beautifulsoup4 \n",
    "#!pip install selenium"
   ]
  },
  {
   "cell_type": "markdown",
   "metadata": {},
   "source": [
    "# selenium 패키지를 사용하기 위한 Chrome Driver 다운로드\n",
    "1. Chrome 다운로드\n",
    "2. 버전에 맞는 Chrome Driver 다운로드 \n",
    "    * Chrome 버전 확인: 크롬 > 더보기 > 도움말 > Chrome 정보\n",
    "    * Chrome Driver 다운로드: https://sites.google.com/a/chromium.org/chromedriver/downloads\n",
    "3. Chrome Driver를 현재 소스코드와 동일한 디렉토리로 이동"
   ]
  },
  {
   "cell_type": "code",
   "execution_count": null,
   "metadata": {},
   "outputs": [],
   "source": [
    "from selenium import webdriver\n",
    "from bs4 import BeautifulSoup\n",
    "from urllib.request import urlopen\n",
    "from urllib.parse import quote_plus\n",
    "import matplotlib.pyplot as plt\n",
    "import numpy as np\n",
    "from PIL import Image\n",
    "import time"
   ]
  },
  {
   "cell_type": "code",
   "execution_count": null,
   "metadata": {},
   "outputs": [],
   "source": [
    "NUM = 1000 #크롤링할 이미지 최대 개수(이미지는 NUM이하로 크롤링됨)"
   ]
  },
  {
   "cell_type": "code",
   "execution_count": null,
   "metadata": {},
   "outputs": [],
   "source": [
    "driver = webdriver.Chrome('./chromedriver.exe')\n",
    "driver.implicitly_wait(3)"
   ]
  },
  {
   "cell_type": "code",
   "execution_count": null,
   "metadata": {},
   "outputs": [],
   "source": [
    "def loadHtml(path):\n",
    "    driver.get(path)\n",
    "    driver.implicitly_wait(3)\n",
    "    html = driver.page_source\n",
    "    soup = BeautifulSoup(html, 'html.parser')\n",
    "    return soup.find_all('img')"
   ]
  },
  {
   "cell_type": "code",
   "execution_count": null,
   "metadata": {},
   "outputs": [],
   "source": [
    "def crawlingImage(n,savepath,failStack):\n",
    "    html = driver.page_source\n",
    "    soup = BeautifulSoup(html, 'html.parser')\n",
    "    img = soup.find_all('img')\n",
    "    print(len(img), n)\n",
    "    if len(img)<=n:\n",
    "        driver.execute_script(\"window.scrollTo(0,document.body.scrollHeight)\")\n",
    "        result = driver.execute_script(\n",
    "            '''\n",
    "            if(document.getElementsByClassName(\"mye4qd\")[0].getAttribute(\"value\")===\"결과 더보기\")\n",
    "                document.getElementsByClassName(\"mye4qd\")[0].click()\n",
    "            '''\n",
    "            )\n",
    "        failStack += 1\n",
    "        if failStack > 5:\n",
    "            return n, -1\n",
    "        else:\n",
    "            return n, failStack\n",
    "    \n",
    "    for i in img[n:]:\n",
    "        print(n)\n",
    "        try:\n",
    "            imgUrl = i['src']\n",
    "        except KeyError:\n",
    "            try:\n",
    "                imgUrl = i['data-src']\n",
    "            except KeyError:\n",
    "                continue\n",
    "    \n",
    "        with urlopen(imgUrl) as f:\n",
    "            with open(savepath + str(n)+'.jpg','wb') as h: # w - write b - binary\n",
    "                img = f.read()\n",
    "                h.write(img)\n",
    "        with Image.open(savepath + str(n)+'.jpg') as image:\n",
    "            plt.imshow(image)\n",
    "            plt.show()\n",
    "        n += 1\n",
    "        #driver.execute_script(\"window.scrollTo(0, {})\".format(n*(231//4)))\n",
    "        \n",
    "        if n > NUM:\n",
    "            break\n",
    "    failStack = 0\n",
    "    return n, failStack"
   ]
  },
  {
   "cell_type": "markdown",
   "metadata": {},
   "source": [
    "# crawling \"fire\" image in google"
   ]
  },
  {
   "cell_type": "code",
   "execution_count": null,
   "metadata": {
    "scrolled": true
   },
   "outputs": [],
   "source": [
    "img = loadHtml('https://www.google.co.kr/search?hl=ko&tbm=isch&source=hp&biw=1036&bih=674&ei=Dlw2YJLRH5fr-Qbrx7SQDg&q=fire&oq=fire&gs_lcp=CgNpbWcQAzIFCAAQsQMyAggAMgIIADICCAAyBQgAELEDMgIIADICCAAyAggAMggIABCxAxCDATICCABQ0wdYzgpg9gtoAHAAeACAAYsBiAHwA5IBAzAuNJgBAKABAaoBC2d3cy13aXotaW1n&sclient=img&ved=0ahUKEwiSkLKx14LvAhWXdd4KHesjDeIQ4dUDCAc&uact=5')\n",
    "\n",
    "n = 0\n",
    "failStack = 0\n",
    "while n<NUM:\n",
    "    n, failStack = crawlingImage(n,'./data/crawled_images/1/img',failStack)\n",
    "    if failStack==-1:\n",
    "        print(\"{}개의 이미지 크롤링 성공\".format(n))\n",
    "        break"
   ]
  },
  {
   "cell_type": "markdown",
   "metadata": {},
   "source": [
    "# Crawling \"\"fire smoke in city\" OR \"fire smoke\"\" image in google"
   ]
  },
  {
   "cell_type": "code",
   "execution_count": null,
   "metadata": {},
   "outputs": [],
   "source": [
    "img = loadHtml('https://www.google.com/search?q=%22fire+smoke+in+city%22+OR+%22fire+smoke%22&tbm=isch&ved=2ahUKEwj4pIjJ15HvAhVC6pQKHf-6CK0Q2-cCegQIABAA&oq=%22fire+smoke+in+city%22+OR+%22fire+smoke%22&gs_lcp=CgNpbWcQA1CsK1iQLGD5LmgAcAB4AIABWYgBqQGSAQEymAEAoAEBqgELZ3dzLXdpei1pbWfAAQE&sclient=img&ei=hDk-YPjSDsLU0wT_9aLoCg&bih=754&biw=1536&rlz=1C1OKWM_koKR870KR870')\n",
    "n = 0\n",
    "failStack = 0\n",
    "while n<NUM :\n",
    "    n, failStack = crawlingImage(n,'./data/crawled_images/2/img', failStack)\n",
    "    if failStack==-1:\n",
    "        print(\"{}개의 이미지 크롤링 성공\".format(n))\n",
    "        break"
   ]
  },
  {
   "cell_type": "markdown",
   "metadata": {},
   "source": [
    "# Crawling \"school OR factory OR school OR street OR landscape\" image in google"
   ]
  },
  {
   "cell_type": "code",
   "execution_count": null,
   "metadata": {},
   "outputs": [],
   "source": [
    "img = loadHtml('https://www.google.com/search?as_st=y&tbm=isch&hl=ko&as_q=school+OR+factory+OR+school+OR+street+OR+landscape&as_epq=&as_oq=&as_eq=&cr=&as_sitesearch=&safe=active&tbs=itp:photo,ic:color,ift:jpg')\n",
    "n = 0\n",
    "failStack = 0\n",
    "while n<NUM:\n",
    "    n, failStack = crawlingImage(n,'./data/crawled_images/0/img', failStack)\n",
    "    if failStack==-1:\n",
    "        print(\"{}개의 이미지 크롤링 성공\".format(n))\n",
    "        break"
   ]
  }
 ],
 "metadata": {
  "kernelspec": {
   "display_name": "Python 3",
   "language": "python",
   "name": "python3"
  },
  "language_info": {
   "codemirror_mode": {
    "name": "ipython",
    "version": 3
   },
   "file_extension": ".py",
   "mimetype": "text/x-python",
   "name": "python",
   "nbconvert_exporter": "python",
   "pygments_lexer": "ipython3",
   "version": "3.8.5"
  }
 },
 "nbformat": 4,
 "nbformat_minor": 4
}
