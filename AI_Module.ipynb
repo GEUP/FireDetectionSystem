{
 "cells": [
  {
   "cell_type": "code",
   "execution_count": 1,
   "metadata": {},
   "outputs": [],
   "source": [
    "import tensorflow as tf\n",
    "import os\n",
    "from PIL import Image\n",
    "import numpy as np\n",
    "from matplotlib.patches import Rectangle\n",
    "import matplotlib.pyplot as plt\n",
    "import cv2\n",
    "import imutils"
   ]
  },
  {
   "cell_type": "code",
   "execution_count": 2,
   "metadata": {},
   "outputs": [],
   "source": [
    "def loss_fn(y_true,y_pred):\n",
    "    return keras.losses.MeanSquaredError()(y_true,y_pred)"
   ]
  },
  {
   "cell_type": "code",
   "execution_count": 3,
   "metadata": {},
   "outputs": [],
   "source": [
    "IMG_SIZE = 224"
   ]
  },
  {
   "cell_type": "code",
   "execution_count": 4,
   "metadata": {
    "scrolled": true
   },
   "outputs": [],
   "source": [
    "def local_loss_fn(y_true,y_pred):\n",
    "    return keras.losses.MeanSquaredError()(y_true,y_pred)"
   ]
  },
  {
   "cell_type": "code",
   "execution_count": 5,
   "metadata": {},
   "outputs": [],
   "source": [
    "def class_loss_fn(y_true,y_pred):\n",
    "    return keras.losses.SparseCategoricalCrossentropy()(y_true,y_pred)"
   ]
  },
  {
   "cell_type": "code",
   "execution_count": 6,
   "metadata": {},
   "outputs": [],
   "source": [
    "class MyModel(tf.keras.Model):\n",
    "    def __init__(self):\n",
    "        super(MyModel, self).__init__()\n",
    "        self.classification = tf.keras.models.load_model(\"./model/Classification_Model\",custom_objects={'loss_fn': local_loss_fn})\n",
    "        self.classification.load_weights('./model/Classification_Model_weights.h5')\n",
    "        self.localization = tf.keras.models.load_model(\"./model/Localization_Model\",custom_objects={'loss_fn': class_loss_fn})\n",
    "        self.localization.load_weights('./model/Localization_Model_weights.h5')\n",
    "        self.con = tf.keras.layers.Concatenate(axis=-1)\n",
    "        \n",
    "    def call(self, x, training=False, mask=None):\n",
    "        a = self.classification(x)\n",
    "        b = self.localization(x)\n",
    "    \n",
    "        return self.con([a,b])"
   ]
  },
  {
   "cell_type": "code",
   "execution_count": 7,
   "metadata": {},
   "outputs": [],
   "source": [
    "model = MyModel()"
   ]
  },
  {
   "cell_type": "code",
   "execution_count": 8,
   "metadata": {},
   "outputs": [
    {
     "name": "stdout",
     "output_type": "stream",
     "text": [
      "360 640\n"
     ]
    }
   ],
   "source": [
    "cap = cv2.VideoCapture('./data/video/CCTV/fire and smoke.mp4')\n",
    "width = int(cap.get(cv2.CAP_PROP_FRAME_WIDTH))\n",
    "height = int(cap.get(cv2.CAP_PROP_FRAME_HEIGHT))\n",
    "print(height, width)\n",
    "i=0\n",
    "SPEED = 3\n",
    "while True: \n",
    "    if cap.grab():\n",
    "        ret, frame = cap.retrieve()\n",
    "        i+=1\n",
    "        if i%SPEED != 0:\n",
    "            continue\n",
    "        if ret:\n",
    "            frame2 = cv2.cvtColor(frame,cv2.COLOR_RGB2BGR)\n",
    "            image = Image.fromarray(frame2)\n",
    "            image = image.resize((IMG_SIZE, IMG_SIZE))\n",
    "            image = tf.cast(np.array(image), tf.float32)/255.\n",
    "            image = image[tf.newaxis,...]\n",
    "            prediction = model.predict(image)\n",
    "            pred_label = int(tf.argmax(prediction[0][:3]))\n",
    "            pred_local = prediction[0][3:]\n",
    "            \n",
    "            if pred_label==0:\n",
    "                frame = cv2.rectangle(frame,(0,0),(150,40),(255,255,255),cv2.FILLED)\n",
    "                frame=cv2.putText(frame,\"Non-Fire\", (0, 30), cv2.FONT_ITALIC, 1, (0, 0, 255),3)\n",
    "            elif pred_label == 1:\n",
    "                frame = cv2.rectangle(frame,(0,0),(80,40),(255,255,255),cv2.FILLED)\n",
    "                frame=cv2.putText(frame,\"Fire!!\", (0, 30), cv2.FONT_ITALIC, 1, (0, 0, 255),3)\n",
    "                pred_x = pred_local[0]\n",
    "                pred_y = pred_local[1]\n",
    "                pred_w = pred_local[2]\n",
    "                pred_h = pred_local[3]\n",
    "            \n",
    "                pred_xmin = int((pred_x - pred_w/2.)*cap.get(cv2.CAP_PROP_FRAME_WIDTH))\n",
    "                pred_ymin = int((pred_y - pred_h/2.)*cap.get(cv2.CAP_PROP_FRAME_HEIGHT))\n",
    "                pred_xmax = int((pred_x + pred_w/2.)*cap.get(cv2.CAP_PROP_FRAME_WIDTH))\n",
    "                pred_ymax = int((pred_y + pred_h/2.)*cap.get(cv2.CAP_PROP_FRAME_HEIGHT))\n",
    "            \n",
    "                frame = cv2.rectangle(frame,(pred_xmin,pred_ymin),(pred_xmax,pred_ymax),(0,0,255),2)\n",
    "\n",
    "            elif pred_label== 2:\n",
    "                frame = cv2.rectangle(frame,(0,0),(120,40),(255,255,255),cv2.FILLED)\n",
    "                frame=cv2.putText(frame,\"SMOKE!\", (0, 30), cv2.FONT_ITALIC, 1, (0, 0, 255),3)\n",
    "                \n",
    "            cv2.imshow('video', frame)\n",
    "            k = cv2.waitKey(1) & 0xFF\n",
    "            if k == 27:\n",
    "                cap.release()\n",
    "                cv2.destroyWindow('video')\n",
    "                break\n",
    "        else:\n",
    "            print('error')\n",
    "    else:\n",
    "        break\n",
    "if cv2.getWindowProperty('video',0) != -1:\n",
    "    cap.release()\n",
    "    cv2.destroyWindow('video')"
   ]
  },
  {
   "cell_type": "code",
   "execution_count": null,
   "metadata": {},
   "outputs": [],
   "source": []
  }
 ],
 "metadata": {
  "kernelspec": {
   "display_name": "Python 3",
   "language": "python",
   "name": "python3"
  },
  "language_info": {
   "codemirror_mode": {
    "name": "ipython",
    "version": 3
   },
   "file_extension": ".py",
   "mimetype": "text/x-python",
   "name": "python",
   "nbconvert_exporter": "python",
   "pygments_lexer": "ipython3",
   "version": "3.8.5"
  }
 },
 "nbformat": 4,
 "nbformat_minor": 4
}
