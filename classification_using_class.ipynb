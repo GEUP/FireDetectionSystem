{
 "cells": [
  {
   "cell_type": "markdown",
   "metadata": {},
   "source": [
    "# 데이터 증강"
   ]
  },
  {
   "cell_type": "code",
   "execution_count": 27,
   "metadata": {},
   "outputs": [],
   "source": [
    "import tensorflow as tf\n",
    "import numpy as np\n",
    "import os\n",
    "from PIL import Image\n",
    "import matplotlib.pyplot as plt"
   ]
  },
  {
   "cell_type": "markdown",
   "metadata": {},
   "source": [
    "## 하이퍼 파라미터"
   ]
  },
  {
   "cell_type": "code",
   "execution_count": 13,
   "metadata": {},
   "outputs": [],
   "source": [
    "EPOCHS = 100\n",
    "IMG_SIZE = 224"
   ]
  },
  {
   "cell_type": "markdown",
   "metadata": {},
   "source": [
    "## 모델 정의"
   ]
  },
  {
   "cell_type": "code",
   "execution_count": 3,
   "metadata": {},
   "outputs": [],
   "source": [
    "class MyModel(tf.keras.Model):\n",
    "    def __init__(self):\n",
    "        super(MyModel, self).__init__()\n",
    "        self.conv1 = tf.keras.layers.Conv2D(filters=32, kernel_size=3, activation='relu',padding='SAME', input_shape=(IMG_SIZE,IMG_SIZE,3));\n",
    "        self.pool1 = tf.keras.layers.MaxPool2D(padding='SAME')\n",
    "        self.conv2 = tf.keras.layers.Conv2D(filters=64, kernel_size=3, activation='relu',padding='SAME');\n",
    "        self.pool2 = tf.keras.layers.MaxPool2D(padding='SAME')\n",
    "        self.conv3 = tf.keras.layers.Conv2D(filters=128, kernel_size=3, activation='relu',padding='SAME');\n",
    "        self.pool3 = tf.keras.layers.MaxPool2D(padding='SAME')\n",
    "        self.conv4 = tf.keras.layers.Conv2D(filters=256, kernel_size=3, activation='relu',padding='SAME');\n",
    "        self.pool4 = tf.keras.layers.MaxPool2D(padding='SAME')\n",
    "        self.conv5 = tf.keras.layers.Conv2D(filters=256, kernel_size=3, activation='relu',padding='SAME');\n",
    "        self.pool5 = tf.keras.layers.MaxPool2D(padding='SAME')\n",
    "        \n",
    "        self.flat = tf.keras.layers.Flatten()\n",
    "        self.den1 = tf.keras.layers.Dense(1024, activation='relu')\n",
    "        self.drop = tf.keras.layers.Dropout(0.4)\n",
    "        self.den2 = tf.keras.layers.Dense(1,activation='sigmoid')\n",
    "        \n",
    "    def call(self, x, training=False, mask=None):\n",
    "        x = self.conv1(x)\n",
    "        x = self.pool1(x)\n",
    "        x = self.conv2(x)\n",
    "        x = self.pool2(x)\n",
    "        x = self.conv3(x)\n",
    "        x = self.pool3(x)\n",
    "        x = self.conv4(x)\n",
    "        x = self.pool4(x)\n",
    "        x = self.conv5(x)\n",
    "        x = self.pool5(x)\n",
    "        \n",
    "        x = self.flat(x)\n",
    "        x = self.den1(x)\n",
    "        x = self.drop(x)\n",
    "        return self.den2(x)\n",
    "        "
   ]
  },
  {
   "cell_type": "markdown",
   "metadata": {},
   "source": [
    "## 데이터셋 준비"
   ]
  },
  {
   "cell_type": "code",
   "execution_count": 6,
   "metadata": {},
   "outputs": [],
   "source": [
    "cur_dir = os.getcwd()\n",
    "data_dir = os.path.join(cur_dir,'data')\n",
    "camera_dir = os.path.join(data_dir,'crawled_images')\n",
    "camera0_dir = os.path.join(camera_dir,'0')\n",
    "camera1_dir = os.path.join(camera_dir,'1')\n",
    "\n",
    "normal_img_files = os.listdir(camera0_dir)\n",
    "fire_img_files = os.listdir(camera1_dir)"
   ]
  },
  {
   "cell_type": "code",
   "execution_count": 9,
   "metadata": {},
   "outputs": [
    {
     "name": "stdout",
     "output_type": "stream",
     "text": [
      "img92.jpg P\n",
      "(168, 301)\n"
     ]
    }
   ],
   "source": [
    "for img in normal_img_files:\n",
    "    img_path = os.path.join(camera0_dir,img)\n",
    "    image = Image.open(img_path)\n",
    "    image_mode = image.mode\n",
    "    if image_mode != 'RGB':\n",
    "        print(img, image_mode)\n",
    "        image = np.asarray(image)\n",
    "        print(image.shape)\n",
    "        os.remove(img_path)\n",
    "\n",
    "for img in fire_img_files:\n",
    "    img_path = os.path.join(camera1_dir,img)\n",
    "    image = Image.open(img_path)\n",
    "    image_mode = image.mode\n",
    "    if image_mode != 'RGB':\n",
    "        print(img, image_mode)\n",
    "        image = np.asarray(image)\n",
    "        print(image.shape)\n",
    "        os.remove(img_path)\n",
    "        \n",
    "normal_img_files = os.listdir(camera0_dir)\n",
    "fire_img_files = os.listdir(camera1_dir)"
   ]
  },
  {
   "cell_type": "code",
   "execution_count": 11,
   "metadata": {},
   "outputs": [
    {
     "name": "stdout",
     "output_type": "stream",
     "text": [
      "83\n",
      "88\n"
     ]
    }
   ],
   "source": [
    "print(len(normal_img_files))\n",
    "print(len(fire_img_files))"
   ]
  },
  {
   "cell_type": "code",
   "execution_count": 53,
   "metadata": {},
   "outputs": [],
   "source": [
    "N_N_TRAIN = 3 * (len(normal_img_files) // 4)\n",
    "train_x = []\n",
    "train_y = []\n",
    "test_x = []\n",
    "test_y = []\n",
    "for i, file in enumerate(normal_img_files):\n",
    "    img_path = os.path.join(camera0_dir, file)\n",
    "    image = Image.open(img_path)\n",
    "    image = image.resize((IMG_SIZE, IMG_SIZE))\n",
    "    image = np.array(image).astype(np.float32)\n",
    "    if i < N_N_TRAIN:\n",
    "        train_x.append(image)\n",
    "        train_y.append(0)\n",
    "    else:\n",
    "        test_x.append(image)\n",
    "        test_y.append(0)"
   ]
  },
  {
   "cell_type": "code",
   "execution_count": 54,
   "metadata": {},
   "outputs": [],
   "source": [
    "N_F_TRAIN = 3 * (len(fire_img_files) // 4)\n",
    "for i, file in enumerate(fire_img_files):\n",
    "    img_path = os.path.join(camera1_dir,file)\n",
    "    image = Image.open(img_path)\n",
    "    image = image.resize((IMG_SIZE,IMG_SIZE))\n",
    "    image = np.array(image).astype(np.float32)\n",
    "    if i < N_F_TRAIN:\n",
    "        train_x.append(image)\n",
    "        train_y.append(1)\n",
    "    else:\n",
    "        test_x.append(image)\n",
    "        test_y.append(1)"
   ]
  },
  {
   "cell_type": "code",
   "execution_count": 55,
   "metadata": {},
   "outputs": [],
   "source": [
    "train_x = np.array(train_x)\n",
    "train_y = np.array(train_y)\n",
    "test_x = np.array(test_x)\n",
    "test_y = np.array(test_y)\n",
    "\n",
    "train_x, test_x = train_x / 255.0, test_x/255.0"
   ]
  },
  {
   "cell_type": "code",
   "execution_count": 56,
   "metadata": {},
   "outputs": [],
   "source": [
    "train_ds = tf.data.Dataset.from_tensor_slices((train_x,train_y)).shuffle(1000).batch(16).prefetch(32)\n",
    "test_ds = tf.data.Dataset.from_tensor_slices((test_x, test_y)).batch(16).prefetch(32)"
   ]
  },
  {
   "cell_type": "code",
   "execution_count": 57,
   "metadata": {},
   "outputs": [
    {
     "name": "stdout",
     "output_type": "stream",
     "text": [
      "Epoch 1/100\n",
      "8/8 [==============================] - 16s 2s/step - loss: 0.8920 - precision: 0.5343 - recall: 0.7515 - val_loss: 0.3828 - val_precision: 0.8462 - val_recall: 1.0000\n",
      "Epoch 2/100\n",
      "8/8 [==============================] - 11s 1s/step - loss: 0.2406 - precision: 0.9076 - recall: 0.9890 - val_loss: 0.2170 - val_precision: 1.0000 - val_recall: 0.9545\n",
      "Epoch 3/100\n",
      "8/8 [==============================] - 11s 1s/step - loss: 0.6305 - precision: 0.9480 - recall: 0.9838 - val_loss: 0.3681 - val_precision: 1.0000 - val_recall: 0.9091\n",
      "Epoch 4/100\n",
      "8/8 [==============================] - 11s 1s/step - loss: 0.0238 - precision: 0.9926 - recall: 0.9866 - val_loss: 0.1374 - val_precision: 1.0000 - val_recall: 0.9545\n",
      "Epoch 5/100\n",
      "8/8 [==============================] - 11s 1s/step - loss: 0.0328 - precision: 0.9868 - recall: 0.9966 - val_loss: 0.2755 - val_precision: 1.0000 - val_recall: 0.8636\n",
      "Epoch 6/100\n",
      "8/8 [==============================] - 11s 1s/step - loss: 0.0732 - precision: 0.9788 - recall: 0.9778 - val_loss: 0.1152 - val_precision: 1.0000 - val_recall: 0.9545\n",
      "Epoch 7/100\n",
      "8/8 [==============================] - 12s 2s/step - loss: 0.0392 - precision: 0.9740 - recall: 0.9755 - val_loss: 0.1952 - val_precision: 1.0000 - val_recall: 0.8636\n",
      "Epoch 8/100\n",
      "8/8 [==============================] - 12s 2s/step - loss: 0.0193 - precision: 1.0000 - recall: 0.9752 - val_loss: 0.1595 - val_precision: 1.0000 - val_recall: 0.9091\n",
      "Epoch 9/100\n",
      "8/8 [==============================] - 12s 1s/step - loss: 0.0149 - precision: 1.0000 - recall: 1.0000 - val_loss: 0.1771 - val_precision: 1.0000 - val_recall: 0.9545\n",
      "Epoch 10/100\n",
      "8/8 [==============================] - 12s 1s/step - loss: 0.0168 - precision: 0.9784 - recall: 1.0000 - val_loss: 0.4949 - val_precision: 1.0000 - val_recall: 0.8636\n",
      "Epoch 11/100\n",
      "8/8 [==============================] - 12s 1s/step - loss: 0.0204 - precision: 1.0000 - recall: 0.9820 - val_loss: 0.1936 - val_precision: 1.0000 - val_recall: 0.9091\n",
      "Epoch 12/100\n",
      "8/8 [==============================] - 12s 2s/step - loss: 0.0050 - precision: 1.0000 - recall: 1.0000 - val_loss: 0.2106 - val_precision: 1.0000 - val_recall: 0.9545\n",
      "Epoch 13/100\n",
      "8/8 [==============================] - 12s 2s/step - loss: 0.0015 - precision: 1.0000 - recall: 1.0000 - val_loss: 0.3245 - val_precision: 1.0000 - val_recall: 0.9091\n",
      "Epoch 14/100\n",
      "8/8 [==============================] - 12s 1s/step - loss: 0.0015 - precision: 1.0000 - recall: 1.0000 - val_loss: 0.3146 - val_precision: 1.0000 - val_recall: 0.9091\n",
      "Epoch 15/100\n",
      "8/8 [==============================] - 12s 2s/step - loss: 6.9475e-04 - precision: 1.0000 - recall: 1.0000 - val_loss: 0.2510 - val_precision: 1.0000 - val_recall: 0.9545\n",
      "Epoch 16/100\n",
      "8/8 [==============================] - 12s 2s/step - loss: 9.5362e-04 - precision: 1.0000 - recall: 1.0000 - val_loss: 0.3025 - val_precision: 1.0000 - val_recall: 0.9545\n",
      "Epoch 17/100\n",
      "8/8 [==============================] - 12s 1s/step - loss: 7.3226e-05 - precision: 1.0000 - recall: 1.0000 - val_loss: 0.3523 - val_precision: 1.0000 - val_recall: 0.9545\n",
      "Epoch 18/100\n",
      "8/8 [==============================] - 12s 2s/step - loss: 1.6100e-04 - precision: 1.0000 - recall: 1.0000 - val_loss: 0.3600 - val_precision: 1.0000 - val_recall: 0.9545\n",
      "Epoch 19/100\n",
      "8/8 [==============================] - 12s 1s/step - loss: 1.1061e-04 - precision: 1.0000 - recall: 1.0000 - val_loss: 0.3483 - val_precision: 1.0000 - val_recall: 0.9545\n",
      "Epoch 20/100\n",
      "8/8 [==============================] - 12s 2s/step - loss: 1.0803e-04 - precision: 1.0000 - recall: 1.0000 - val_loss: 0.3356 - val_precision: 1.0000 - val_recall: 0.9545\n",
      "Epoch 21/100\n",
      "8/8 [==============================] - 12s 1s/step - loss: 2.6366e-05 - precision: 1.0000 - recall: 1.0000 - val_loss: 0.3303 - val_precision: 1.0000 - val_recall: 0.9545\n",
      "Epoch 22/100\n",
      "8/8 [==============================] - 12s 1s/step - loss: 3.9737e-05 - precision: 1.0000 - recall: 1.0000 - val_loss: 0.3305 - val_precision: 1.0000 - val_recall: 0.9545\n",
      "Epoch 23/100\n",
      "8/8 [==============================] - 12s 2s/step - loss: 2.7206e-05 - precision: 1.0000 - recall: 1.0000 - val_loss: 0.3328 - val_precision: 1.0000 - val_recall: 0.9545\n",
      "Epoch 24/100\n",
      "8/8 [==============================] - 11s 1s/step - loss: 4.9281e-05 - precision: 1.0000 - recall: 1.0000 - val_loss: 0.3381 - val_precision: 1.0000 - val_recall: 0.9545\n",
      "Epoch 25/100\n",
      "8/8 [==============================] - 12s 2s/step - loss: 7.7287e-05 - precision: 1.0000 - recall: 1.0000 - val_loss: 0.3393 - val_precision: 1.0000 - val_recall: 0.9545\n",
      "Epoch 26/100\n",
      "8/8 [==============================] - 12s 1s/step - loss: 2.0227e-05 - precision: 1.0000 - recall: 1.0000 - val_loss: 0.3442 - val_precision: 1.0000 - val_recall: 0.9545\n",
      "Epoch 27/100\n",
      "8/8 [==============================] - 12s 1s/step - loss: 1.2576e-05 - precision: 1.0000 - recall: 1.0000 - val_loss: 0.3487 - val_precision: 1.0000 - val_recall: 0.9545\n",
      "Epoch 28/100\n",
      "8/8 [==============================] - 13s 2s/step - loss: 1.8506e-05 - precision: 1.0000 - recall: 1.0000 - val_loss: 0.3535 - val_precision: 1.0000 - val_recall: 0.9545\n",
      "Epoch 29/100\n",
      "8/8 [==============================] - 12s 1s/step - loss: 1.9435e-05 - precision: 1.0000 - recall: 1.0000 - val_loss: 0.3573 - val_precision: 1.0000 - val_recall: 0.9545\n",
      "Epoch 30/100\n",
      "8/8 [==============================] - 12s 1s/step - loss: 2.3478e-05 - precision: 1.0000 - recall: 1.0000 - val_loss: 0.3621 - val_precision: 1.0000 - val_recall: 0.9545\n",
      "Epoch 31/100\n",
      "8/8 [==============================] - 12s 1s/step - loss: 2.2190e-05 - precision: 1.0000 - recall: 1.0000 - val_loss: 0.3675 - val_precision: 1.0000 - val_recall: 0.9545\n",
      "Epoch 32/100\n",
      "8/8 [==============================] - 12s 1s/step - loss: 1.5269e-05 - precision: 1.0000 - recall: 1.0000 - val_loss: 0.3698 - val_precision: 1.0000 - val_recall: 0.9545\n",
      "Epoch 33/100\n",
      "8/8 [==============================] - 12s 1s/step - loss: 3.0880e-05 - precision: 1.0000 - recall: 1.0000 - val_loss: 0.3732 - val_precision: 1.0000 - val_recall: 0.9545\n",
      "Epoch 34/100\n",
      "8/8 [==============================] - 12s 1s/step - loss: 1.6963e-05 - precision: 1.0000 - recall: 1.0000 - val_loss: 0.3755 - val_precision: 1.0000 - val_recall: 0.9545\n",
      "Epoch 35/100\n",
      "8/8 [==============================] - 12s 2s/step - loss: 7.2425e-05 - precision: 1.0000 - recall: 1.0000 - val_loss: 0.3710 - val_precision: 1.0000 - val_recall: 0.9545\n",
      "Epoch 36/100\n",
      "8/8 [==============================] - 12s 1s/step - loss: 3.5325e-05 - precision: 1.0000 - recall: 1.0000 - val_loss: 0.3736 - val_precision: 1.0000 - val_recall: 0.9545\n",
      "Epoch 37/100\n",
      "8/8 [==============================] - 12s 1s/step - loss: 1.4381e-05 - precision: 1.0000 - recall: 1.0000 - val_loss: 0.3781 - val_precision: 1.0000 - val_recall: 0.9545\n",
      "Epoch 38/100\n",
      "8/8 [==============================] - 12s 1s/step - loss: 9.1231e-06 - precision: 1.0000 - recall: 1.0000 - val_loss: 0.3818 - val_precision: 1.0000 - val_recall: 0.9545\n",
      "Epoch 39/100\n",
      "8/8 [==============================] - 12s 1s/step - loss: 5.3522e-06 - precision: 1.0000 - recall: 1.0000 - val_loss: 0.3844 - val_precision: 1.0000 - val_recall: 0.9545\n",
      "Epoch 40/100\n",
      "8/8 [==============================] - 12s 1s/step - loss: 7.1060e-06 - precision: 1.0000 - recall: 1.0000 - val_loss: 0.3889 - val_precision: 1.0000 - val_recall: 0.9545\n",
      "Epoch 41/100\n",
      "8/8 [==============================] - 12s 1s/step - loss: 1.0822e-05 - precision: 1.0000 - recall: 1.0000 - val_loss: 0.3975 - val_precision: 1.0000 - val_recall: 0.9545\n",
      "Epoch 42/100\n",
      "8/8 [==============================] - 12s 2s/step - loss: 1.2664e-05 - precision: 1.0000 - recall: 1.0000 - val_loss: 0.3990 - val_precision: 1.0000 - val_recall: 0.9545\n",
      "Epoch 43/100\n",
      "8/8 [==============================] - 12s 2s/step - loss: 1.3064e-05 - precision: 1.0000 - recall: 1.0000 - val_loss: 0.3906 - val_precision: 1.0000 - val_recall: 0.9545\n",
      "Epoch 44/100\n",
      "8/8 [==============================] - 12s 1s/step - loss: 1.6285e-05 - precision: 1.0000 - recall: 1.0000 - val_loss: 0.3723 - val_precision: 1.0000 - val_recall: 0.9545\n",
      "Epoch 45/100\n",
      "8/8 [==============================] - 13s 2s/step - loss: 6.2843e-06 - precision: 1.0000 - recall: 1.0000 - val_loss: 0.3984 - val_precision: 1.0000 - val_recall: 0.9545\n"
     ]
    },
    {
     "name": "stdout",
     "output_type": "stream",
     "text": [
      "Epoch 46/100\n",
      "8/8 [==============================] - 12s 2s/step - loss: 1.7441e-05 - precision: 1.0000 - recall: 1.0000 - val_loss: 0.5781 - val_precision: 1.0000 - val_recall: 0.8636\n",
      "Epoch 47/100\n",
      "8/8 [==============================] - 13s 2s/step - loss: 2.4591e-05 - precision: 1.0000 - recall: 1.0000 - val_loss: 0.4173 - val_precision: 1.0000 - val_recall: 0.9545\n",
      "Epoch 48/100\n",
      "8/8 [==============================] - 16s 2s/step - loss: 7.7494e-06 - precision: 1.0000 - recall: 1.0000 - val_loss: 0.3635 - val_precision: 1.0000 - val_recall: 0.9545\n",
      "Epoch 49/100\n",
      "8/8 [==============================] - 12s 2s/step - loss: 5.7350e-06 - precision: 1.0000 - recall: 1.0000 - val_loss: 0.3674 - val_precision: 1.0000 - val_recall: 0.9545\n",
      "Epoch 50/100\n",
      "8/8 [==============================] - 12s 1s/step - loss: 2.1328e-05 - precision: 1.0000 - recall: 1.0000 - val_loss: 0.3734 - val_precision: 1.0000 - val_recall: 0.9545\n",
      "Epoch 51/100\n",
      "8/8 [==============================] - 12s 2s/step - loss: 1.3704e-05 - precision: 1.0000 - recall: 1.0000 - val_loss: 0.3794 - val_precision: 1.0000 - val_recall: 0.9545\n",
      "Epoch 52/100\n",
      "8/8 [==============================] - 12s 2s/step - loss: 4.3970e-06 - precision: 1.0000 - recall: 1.0000 - val_loss: 0.3851 - val_precision: 1.0000 - val_recall: 0.9545\n",
      "Epoch 53/100\n",
      "8/8 [==============================] - 12s 2s/step - loss: 8.0493e-06 - precision: 1.0000 - recall: 1.0000 - val_loss: 0.3899 - val_precision: 1.0000 - val_recall: 0.9545\n",
      "Epoch 54/100\n",
      "8/8 [==============================] - 12s 2s/step - loss: 2.8408e-06 - precision: 1.0000 - recall: 1.0000 - val_loss: 0.3925 - val_precision: 1.0000 - val_recall: 0.9545\n",
      "Epoch 55/100\n",
      "8/8 [==============================] - 12s 1s/step - loss: 3.2136e-06 - precision: 1.0000 - recall: 1.0000 - val_loss: 0.3944 - val_precision: 1.0000 - val_recall: 0.9545\n",
      "Epoch 56/100\n",
      "8/8 [==============================] - 11s 1s/step - loss: 2.3882e-06 - precision: 1.0000 - recall: 1.0000 - val_loss: 0.3959 - val_precision: 1.0000 - val_recall: 0.9545\n",
      "Epoch 57/100\n",
      "8/8 [==============================] - 12s 2s/step - loss: 2.4075e-06 - precision: 1.0000 - recall: 1.0000 - val_loss: 0.3970 - val_precision: 1.0000 - val_recall: 0.9545\n",
      "Epoch 58/100\n",
      "8/8 [==============================] - 12s 2s/step - loss: 2.6209e-06 - precision: 1.0000 - recall: 1.0000 - val_loss: 0.3981 - val_precision: 1.0000 - val_recall: 0.9545\n",
      "Epoch 59/100\n",
      "8/8 [==============================] - 15s 2s/step - loss: 4.5380e-06 - precision: 1.0000 - recall: 1.0000 - val_loss: 0.4001 - val_precision: 1.0000 - val_recall: 0.9545\n",
      "Epoch 60/100\n",
      "8/8 [==============================] - 19s 2s/step - loss: 3.7166e-06 - precision: 1.0000 - recall: 1.0000 - val_loss: 0.4028 - val_precision: 1.0000 - val_recall: 0.9545\n",
      "Epoch 61/100\n",
      "8/8 [==============================] - 15s 2s/step - loss: 5.6720e-06 - precision: 1.0000 - recall: 1.0000 - val_loss: 0.4048 - val_precision: 1.0000 - val_recall: 0.9545\n",
      "Epoch 62/100\n",
      "8/8 [==============================] - 17s 2s/step - loss: 7.0409e-06 - precision: 1.0000 - recall: 1.0000 - val_loss: 0.4069 - val_precision: 1.0000 - val_recall: 0.9545\n",
      "Epoch 63/100\n",
      "8/8 [==============================] - 17s 2s/step - loss: 6.8350e-06 - precision: 1.0000 - recall: 1.0000 - val_loss: 0.4101 - val_precision: 1.0000 - val_recall: 0.9545\n",
      "Epoch 64/100\n",
      "8/8 [==============================] - 17s 2s/step - loss: 3.5151e-06 - precision: 1.0000 - recall: 1.0000 - val_loss: 0.4125 - val_precision: 1.0000 - val_recall: 0.9545\n",
      "Epoch 65/100\n",
      "8/8 [==============================] - 14s 2s/step - loss: 2.7773e-06 - precision: 1.0000 - recall: 1.0000 - val_loss: 0.4140 - val_precision: 1.0000 - val_recall: 0.9545\n",
      "Epoch 66/100\n",
      "8/8 [==============================] - 14s 2s/step - loss: 1.7928e-06 - precision: 1.0000 - recall: 1.0000 - val_loss: 0.4150 - val_precision: 1.0000 - val_recall: 0.9545\n",
      "Epoch 67/100\n",
      "8/8 [==============================] - 15s 2s/step - loss: 3.2328e-05 - precision: 1.0000 - recall: 1.0000 - val_loss: 0.4182 - val_precision: 1.0000 - val_recall: 0.9545\n",
      "Epoch 68/100\n",
      "8/8 [==============================] - 14s 2s/step - loss: 2.2623e-06 - precision: 1.0000 - recall: 1.0000 - val_loss: 0.4192 - val_precision: 1.0000 - val_recall: 0.9545\n",
      "Epoch 69/100\n",
      "8/8 [==============================] - 13s 2s/step - loss: 3.9928e-06 - precision: 1.0000 - recall: 1.0000 - val_loss: 0.4201 - val_precision: 1.0000 - val_recall: 0.9545\n",
      "Epoch 70/100\n",
      "8/8 [==============================] - 14s 2s/step - loss: 2.3703e-06 - precision: 1.0000 - recall: 1.0000 - val_loss: 0.4214 - val_precision: 1.0000 - val_recall: 0.9545\n",
      "Epoch 71/100\n",
      "8/8 [==============================] - 14s 2s/step - loss: 2.2048e-06 - precision: 1.0000 - recall: 1.0000 - val_loss: 0.4224 - val_precision: 1.0000 - val_recall: 0.9545\n",
      "Epoch 72/100\n",
      "8/8 [==============================] - 14s 2s/step - loss: 3.4771e-06 - precision: 1.0000 - recall: 1.0000 - val_loss: 0.4221 - val_precision: 1.0000 - val_recall: 0.9545\n",
      "Epoch 73/100\n",
      "8/8 [==============================] - 15s 2s/step - loss: 3.1161e-06 - precision: 1.0000 - recall: 1.0000 - val_loss: 0.4219 - val_precision: 1.0000 - val_recall: 0.9545\n",
      "Epoch 74/100\n",
      "8/8 [==============================] - 16s 2s/step - loss: 4.7164e-06 - precision: 1.0000 - recall: 1.0000 - val_loss: 0.4233 - val_precision: 1.0000 - val_recall: 0.9545\n",
      "Epoch 75/100\n",
      "8/8 [==============================] - 15s 2s/step - loss: 1.3898e-06 - precision: 1.0000 - recall: 1.0000 - val_loss: 0.4251 - val_precision: 1.0000 - val_recall: 0.9545\n",
      "Epoch 76/100\n",
      "8/8 [==============================] - 13s 2s/step - loss: 3.2533e-06 - precision: 1.0000 - recall: 1.0000 - val_loss: 0.4264 - val_precision: 1.0000 - val_recall: 0.9545\n",
      "Epoch 77/100\n",
      "8/8 [==============================] - 13s 2s/step - loss: 1.2550e-06 - precision: 1.0000 - recall: 1.0000 - val_loss: 0.4265 - val_precision: 1.0000 - val_recall: 0.9545\n",
      "Epoch 78/100\n",
      "8/8 [==============================] - 14s 2s/step - loss: 4.8834e-06 - precision: 1.0000 - recall: 1.0000 - val_loss: 0.4266 - val_precision: 1.0000 - val_recall: 0.9545\n",
      "Epoch 79/100\n",
      "8/8 [==============================] - 19s 2s/step - loss: 1.1554e-06 - precision: 1.0000 - recall: 1.0000 - val_loss: 0.4270 - val_precision: 1.0000 - val_recall: 0.9545\n",
      "Epoch 80/100\n",
      "8/8 [==============================] - 18s 2s/step - loss: 1.7016e-06 - precision: 1.0000 - recall: 1.0000 - val_loss: 0.4273 - val_precision: 1.0000 - val_recall: 0.9545\n",
      "Epoch 81/100\n",
      "8/8 [==============================] - 17s 2s/step - loss: 2.0789e-06 - precision: 1.0000 - recall: 1.0000 - val_loss: 0.4277 - val_precision: 1.0000 - val_recall: 0.9545\n",
      "Epoch 82/100\n",
      "8/8 [==============================] - 16s 2s/step - loss: 6.9509e-07 - precision: 1.0000 - recall: 1.0000 - val_loss: 0.4280 - val_precision: 1.0000 - val_recall: 0.9545\n",
      "Epoch 83/100\n",
      "8/8 [==============================] - 16s 2s/step - loss: 2.3042e-06 - precision: 1.0000 - recall: 1.0000 - val_loss: 0.4292 - val_precision: 1.0000 - val_recall: 0.9545\n",
      "Epoch 84/100\n",
      "8/8 [==============================] - 15s 2s/step - loss: 1.5846e-06 - precision: 1.0000 - recall: 1.0000 - val_loss: 0.4307 - val_precision: 1.0000 - val_recall: 0.9545\n",
      "Epoch 85/100\n",
      "8/8 [==============================] - 14s 2s/step - loss: 2.5874e-06 - precision: 1.0000 - recall: 1.0000 - val_loss: 0.4338 - val_precision: 1.0000 - val_recall: 0.9545\n",
      "Epoch 86/100\n",
      "8/8 [==============================] - 14s 2s/step - loss: 1.0501e-06 - precision: 1.0000 - recall: 1.0000 - val_loss: 0.4357 - val_precision: 1.0000 - val_recall: 0.9545\n",
      "Epoch 87/100\n",
      "8/8 [==============================] - 11s 1s/step - loss: 1.1446e-06 - precision: 1.0000 - recall: 1.0000 - val_loss: 0.4369 - val_precision: 1.0000 - val_recall: 0.9545\n",
      "Epoch 88/100\n",
      "8/8 [==============================] - 11s 1s/step - loss: 6.2845e-06 - precision: 1.0000 - recall: 1.0000 - val_loss: 0.4366 - val_precision: 1.0000 - val_recall: 0.9545\n",
      "Epoch 89/100\n",
      "8/8 [==============================] - 11s 1s/step - loss: 1.5650e-06 - precision: 1.0000 - recall: 1.0000 - val_loss: 0.4367 - val_precision: 1.0000 - val_recall: 0.9545\n",
      "Epoch 90/100\n"
     ]
    },
    {
     "name": "stdout",
     "output_type": "stream",
     "text": [
      "8/8 [==============================] - 11s 1s/step - loss: 1.7055e-06 - precision: 1.0000 - recall: 1.0000 - val_loss: 0.4370 - val_precision: 1.0000 - val_recall: 0.9545\n",
      "Epoch 91/100\n",
      "8/8 [==============================] - 11s 1s/step - loss: 1.1736e-06 - precision: 1.0000 - recall: 1.0000 - val_loss: 0.4375 - val_precision: 1.0000 - val_recall: 0.9545\n",
      "Epoch 92/100\n",
      "8/8 [==============================] - 11s 1s/step - loss: 2.9462e-06 - precision: 1.0000 - recall: 1.0000 - val_loss: 0.4382 - val_precision: 1.0000 - val_recall: 0.9545\n",
      "Epoch 93/100\n",
      "8/8 [==============================] - 11s 1s/step - loss: 2.7604e-06 - precision: 1.0000 - recall: 1.0000 - val_loss: 0.4389 - val_precision: 1.0000 - val_recall: 0.9545\n",
      "Epoch 94/100\n",
      "8/8 [==============================] - 11s 1s/step - loss: 7.8859e-07 - precision: 1.0000 - recall: 1.0000 - val_loss: 0.4395 - val_precision: 1.0000 - val_recall: 0.9545\n",
      "Epoch 95/100\n",
      "8/8 [==============================] - 11s 1s/step - loss: 9.4952e-07 - precision: 1.0000 - recall: 1.0000 - val_loss: 0.4398 - val_precision: 1.0000 - val_recall: 0.9545\n",
      "Epoch 96/100\n",
      "8/8 [==============================] - 11s 1s/step - loss: 1.1162e-06 - precision: 1.0000 - recall: 1.0000 - val_loss: 0.4401 - val_precision: 1.0000 - val_recall: 0.9545\n",
      "Epoch 97/100\n",
      "8/8 [==============================] - 11s 1s/step - loss: 1.3598e-06 - precision: 1.0000 - recall: 1.0000 - val_loss: 0.4406 - val_precision: 1.0000 - val_recall: 0.9545\n",
      "Epoch 98/100\n",
      "8/8 [==============================] - 11s 1s/step - loss: 7.2710e-07 - precision: 1.0000 - recall: 1.0000 - val_loss: 0.4410 - val_precision: 1.0000 - val_recall: 0.9545\n",
      "Epoch 99/100\n",
      "8/8 [==============================] - 11s 1s/step - loss: 6.9344e-07 - precision: 1.0000 - recall: 1.0000 - val_loss: 0.4420 - val_precision: 1.0000 - val_recall: 0.9545\n",
      "Epoch 100/100\n",
      "8/8 [==============================] - 11s 1s/step - loss: 7.4091e-07 - precision: 1.0000 - recall: 1.0000 - val_loss: 0.4426 - val_precision: 1.0000 - val_recall: 0.9545\n"
     ]
    },
    {
     "data": {
      "text/plain": [
       "<tensorflow.python.keras.callbacks.History at 0x193029da5e0>"
      ]
     },
     "execution_count": 57,
     "metadata": {},
     "output_type": "execute_result"
    }
   ],
   "source": [
    "model = MyModel()\n",
    "model.compile(optimizer = 'adam',\n",
    "              loss='binary_crossentropy',\n",
    "              metrics=[tf.keras.metrics.Precision(name='precision'), tf.keras.metrics.Recall(name='recall')])\n",
    "model.fit(train_ds, validation_data=test_ds, epochs=EPOCHS)"
   ]
  },
  {
   "cell_type": "code",
   "execution_count": null,
   "metadata": {},
   "outputs": [],
   "source": []
  }
 ],
 "metadata": {
  "kernelspec": {
   "display_name": "Python 3",
   "language": "python",
   "name": "python3"
  },
  "language_info": {
   "codemirror_mode": {
    "name": "ipython",
    "version": 3
   },
   "file_extension": ".py",
   "mimetype": "text/x-python",
   "name": "python",
   "nbconvert_exporter": "python",
   "pygments_lexer": "ipython3",
   "version": "3.8.5"
  }
 },
 "nbformat": 4,
 "nbformat_minor": 4
}
