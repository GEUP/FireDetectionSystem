{
 "cells": [
  {
   "cell_type": "markdown",
   "metadata": {},
   "source": [
    "# Data Proprocessing1\n",
    "## 이미지 파일 이름 일반화하기"
   ]
  },
  {
   "cell_type": "code",
   "execution_count": 37,
   "metadata": {},
   "outputs": [],
   "source": [
    "import os\n",
    "from tqdm import tqdm_notebook"
   ]
  },
  {
   "cell_type": "code",
   "execution_count": 17,
   "metadata": {},
   "outputs": [
    {
     "name": "stdout",
     "output_type": "stream",
     "text": [
      "CAMERA\n",
      "CCTV\n",
      "Fire detection annotated dataset\n",
      "README.txt\n",
      "video\n"
     ]
    }
   ],
   "source": [
    "!ls ./data"
   ]
  },
  {
   "cell_type": "code",
   "execution_count": 22,
   "metadata": {
    "scrolled": true
   },
   "outputs": [],
   "source": [
    "curPath = os.curdir\n",
    "dataPath = os.path.join(curPath,'data')\n",
    "\n",
    "cameraPath = os.path.join(dataPath,'CAMERA')\n",
    "camera0Path = os.path.join(cameraPath,'0')\n",
    "camera1Path = os.path.join(cameraPath,'1')\n",
    "camera2Path = os.path.join(cameraPath,'2')\n",
    "\n",
    "cctvPath = os.path.join(dataPath,'CCTV')\n",
    "cctv0Path = os.path.join(cctvPath,'0')\n",
    "cctv1Path = os.path.join(cctvPath,'1')\n",
    "cctv2Path = os.path.join(cctvPath,'2')"
   ]
  },
  {
   "cell_type": "code",
   "execution_count": 44,
   "metadata": {},
   "outputs": [],
   "source": [
    "def renameFile(path):\n",
    "    List = os.listdir(path = path)\n",
    "    i = 0\n",
    "    for name in List:\n",
    "        srcName = os.path.join(path, name)\n",
    "        dstName = str(i)+'faweoijfaoejanfewoaoiewnfoiawnfoiewnewoif.jpg'\n",
    "        i+=1\n",
    "        dstName = os.path.join(path,dstName)\n",
    "        os.rename(srcName,dstName)\n",
    "    \n",
    "    print(path, '파일 수: {}'.format(i),sep='\\n')\n",
    "    List = os.listdir(path = path)\n",
    "    i = 0\n",
    "    for name in tqdm_notebook(List):\n",
    "        srcName = os.path.join(path, name)\n",
    "        dstName = str(i)+'.jpg'\n",
    "        i+=1\n",
    "        dstName = os.path.join(path,dstName)\n",
    "        os.rename(srcName,dstName)"
   ]
  },
  {
   "cell_type": "code",
   "execution_count": 45,
   "metadata": {},
   "outputs": [
    {
     "name": "stdout",
     "output_type": "stream",
     "text": [
      ".\\data\\CAMERA\\0\n",
      "파일 수: 903\n"
     ]
    },
    {
     "name": "stderr",
     "output_type": "stream",
     "text": [
      "<ipython-input-44-d8cabf4e2424>:14: TqdmDeprecationWarning: This function will be removed in tqdm==5.0.0\n",
      "Please use `tqdm.notebook.tqdm` instead of `tqdm.tqdm_notebook`\n",
      "  for name in tqdm_notebook(List):\n"
     ]
    },
    {
     "data": {
      "application/vnd.jupyter.widget-view+json": {
       "model_id": "67725548917349f9b206961494909a28",
       "version_major": 2,
       "version_minor": 0
      },
      "text/plain": [
       "HBox(children=(HTML(value=''), FloatProgress(value=0.0, max=903.0), HTML(value='')))"
      ]
     },
     "metadata": {},
     "output_type": "display_data"
    },
    {
     "name": "stdout",
     "output_type": "stream",
     "text": [
      "\n",
      ".\\data\\CAMERA\\1\n",
      "파일 수: 985\n"
     ]
    },
    {
     "data": {
      "application/vnd.jupyter.widget-view+json": {
       "model_id": "20fc2dac037442e5b885572f13aa5eb4",
       "version_major": 2,
       "version_minor": 0
      },
      "text/plain": [
       "HBox(children=(HTML(value=''), FloatProgress(value=0.0, max=985.0), HTML(value='')))"
      ]
     },
     "metadata": {},
     "output_type": "display_data"
    },
    {
     "name": "stdout",
     "output_type": "stream",
     "text": [
      "\n",
      ".\\data\\CAMERA\\2\n",
      "파일 수: 0\n"
     ]
    },
    {
     "data": {
      "application/vnd.jupyter.widget-view+json": {
       "model_id": "72e074f1370e4df5a8fdb4fb932b510a",
       "version_major": 2,
       "version_minor": 0
      },
      "text/plain": [
       "HBox(children=(HTML(value=''), FloatProgress(value=1.0, bar_style='info', layout=Layout(width='20px'), max=1.0…"
      ]
     },
     "metadata": {},
     "output_type": "display_data"
    },
    {
     "name": "stdout",
     "output_type": "stream",
     "text": [
      "\n",
      ".\\data\\CCTV\\0\n",
      "파일 수: 245\n"
     ]
    },
    {
     "data": {
      "application/vnd.jupyter.widget-view+json": {
       "model_id": "bdebf3beeaed459188d4836926413651",
       "version_major": 2,
       "version_minor": 0
      },
      "text/plain": [
       "HBox(children=(HTML(value=''), FloatProgress(value=0.0, max=245.0), HTML(value='')))"
      ]
     },
     "metadata": {},
     "output_type": "display_data"
    },
    {
     "name": "stdout",
     "output_type": "stream",
     "text": [
      "\n",
      ".\\data\\CCTV\\1\n",
      "파일 수: 331\n"
     ]
    },
    {
     "data": {
      "application/vnd.jupyter.widget-view+json": {
       "model_id": "54670656e3674988a69f98120737ca18",
       "version_major": 2,
       "version_minor": 0
      },
      "text/plain": [
       "HBox(children=(HTML(value=''), FloatProgress(value=0.0, max=331.0), HTML(value='')))"
      ]
     },
     "metadata": {},
     "output_type": "display_data"
    },
    {
     "name": "stdout",
     "output_type": "stream",
     "text": [
      "\n",
      ".\\data\\CCTV\\2\n",
      "파일 수: 288\n"
     ]
    },
    {
     "data": {
      "application/vnd.jupyter.widget-view+json": {
       "model_id": "dbabcebc105f45f5aba8788cc2f36dc8",
       "version_major": 2,
       "version_minor": 0
      },
      "text/plain": [
       "HBox(children=(HTML(value=''), FloatProgress(value=0.0, max=288.0), HTML(value='')))"
      ]
     },
     "metadata": {},
     "output_type": "display_data"
    },
    {
     "name": "stdout",
     "output_type": "stream",
     "text": [
      "\n"
     ]
    }
   ],
   "source": [
    "renameFile(camera0Path)\n",
    "renameFile(camera1Path)\n",
    "renameFile(camera2Path)\n",
    "renameFile(cctv0Path)\n",
    "renameFile(cctv1Path)\n",
    "renameFile(cctv2Path)"
   ]
  },
  {
   "cell_type": "code",
   "execution_count": null,
   "metadata": {},
   "outputs": [],
   "source": []
  }
 ],
 "metadata": {
  "kernelspec": {
   "display_name": "Python 3",
   "language": "python",
   "name": "python3"
  },
  "language_info": {
   "codemirror_mode": {
    "name": "ipython",
    "version": 3
   },
   "file_extension": ".py",
   "mimetype": "text/x-python",
   "name": "python",
   "nbconvert_exporter": "python",
   "pygments_lexer": "ipython3",
   "version": "3.8.5"
  }
 },
 "nbformat": 4,
 "nbformat_minor": 4
}
