{
 "cells": [
  {
   "cell_type": "markdown",
   "metadata": {},
   "source": [
    "# Data Proprocessing1\n",
    "## 이미지 파일 이름 일반화하기"
   ]
  },
  {
   "cell_type": "code",
   "execution_count": 1,
   "metadata": {},
   "outputs": [],
   "source": [
    "import os"
   ]
  },
  {
   "cell_type": "code",
   "execution_count": 2,
   "metadata": {},
   "outputs": [
    {
     "name": "stdout",
     "output_type": "stream",
     "text": [
      "CAMERA\n",
      "CCTV\n",
      "annotated\n",
      "crawled_images\n",
      "crawled_images - Not augmentation\n",
      "video\n"
     ]
    }
   ],
   "source": [
    "!ls ./data"
   ]
  },
  {
   "cell_type": "code",
   "execution_count": 6,
   "metadata": {
    "scrolled": true
   },
   "outputs": [],
   "source": [
    "curPath = os.curdir\n",
    "dataPath = os.path.join(curPath,'data')\n",
    "\n",
    "cameraPath = os.path.join(dataPath,'CAMERA')\n",
    "camera0Path = os.path.join(cameraPath,'0')\n",
    "camera1Path = os.path.join(cameraPath,'1')\n",
    "camera2Path = os.path.join(cameraPath,'2')\n",
    "\n",
    "cctvPath = os.path.join(dataPath,'CCTV')\n",
    "cctv0Path = os.path.join(cctvPath,'0')\n",
    "cctv1Path = os.path.join(cctvPath,'1')\n",
    "cctv2Path = os.path.join(cctvPath,'2')\n",
    "\n",
    "crawlPath = os.path.join(dataPath,'crawled_images')\n",
    "crawl0Path = os.path.join(crawlPath,'0')\n",
    "crawl1Path = os.path.join(crawlPath,'1')\n",
    "crawl2Path = os.path.join(crawlPath,'2')"
   ]
  },
  {
   "cell_type": "code",
   "execution_count": 4,
   "metadata": {},
   "outputs": [],
   "source": [
    "def renameFile(path):\n",
    "    List = os.listdir(path = path)\n",
    "    i = 0\n",
    "    for name in List:\n",
    "        srcName = os.path.join(path, name)\n",
    "        dstName = str(i)+'faweoijfaoejanfewoaoie890wnfoiawnfoiewnewoif.jpg'\n",
    "        i+=1\n",
    "        dstName = os.path.join(path,dstName)\n",
    "        os.rename(srcName,dstName)\n",
    "    \n",
    "    print(path, '파일 수: {}'.format(i),sep='\\n')\n",
    "    List = os.listdir(path = path)\n",
    "    i = 0\n",
    "    for name in List:\n",
    "        srcName = os.path.join(path, name)\n",
    "        dstName = str(i)+'.jpg'\n",
    "        i+=1\n",
    "        dstName = os.path.join(path,dstName)\n",
    "        os.rename(srcName,dstName)"
   ]
  },
  {
   "cell_type": "code",
   "execution_count": 5,
   "metadata": {},
   "outputs": [
    {
     "name": "stdout",
     "output_type": "stream",
     "text": [
      ".\\data\\CAMERA\\0\n",
      "파일 수: 880\n",
      ".\\data\\CAMERA\\1\n",
      "파일 수: 968\n",
      ".\\data\\CAMERA\\2\n",
      "파일 수: 2\n",
      ".\\data\\CCTV\\0\n",
      "파일 수: 245\n",
      ".\\data\\CCTV\\1\n",
      "파일 수: 331\n",
      ".\\data\\CCTV\\2\n",
      "파일 수: 288\n"
     ]
    }
   ],
   "source": [
    "renameFile(camera0Path)\n",
    "renameFile(camera1Path)\n",
    "renameFile(camera2Path)\n",
    "renameFile(cctv0Path)\n",
    "renameFile(cctv1Path)\n",
    "renameFile(cctv2Path)"
   ]
  },
  {
   "cell_type": "code",
   "execution_count": 7,
   "metadata": {},
   "outputs": [
    {
     "name": "stdout",
     "output_type": "stream",
     "text": [
      ".\\data\\crawled_images\\0\n",
      "파일 수: 541\n",
      ".\\data\\crawled_images\\1\n",
      "파일 수: 228\n",
      ".\\data\\crawled_images\\2\n",
      "파일 수: 122\n"
     ]
    }
   ],
   "source": [
    "renameFile(crawl0Path)\n",
    "renameFile(crawl1Path)\n",
    "renameFile(crawl2Path)"
   ]
  },
  {
   "cell_type": "code",
   "execution_count": null,
   "metadata": {},
   "outputs": [],
   "source": []
  }
 ],
 "metadata": {
  "kernelspec": {
   "display_name": "Python 3",
   "language": "python",
   "name": "python3"
  },
  "language_info": {
   "codemirror_mode": {
    "name": "ipython",
    "version": 3
   },
   "file_extension": ".py",
   "mimetype": "text/x-python",
   "name": "python",
   "nbconvert_exporter": "python",
   "pygments_lexer": "ipython3",
   "version": "3.8.5"
  }
 },
 "nbformat": 4,
 "nbformat_minor": 4
}
