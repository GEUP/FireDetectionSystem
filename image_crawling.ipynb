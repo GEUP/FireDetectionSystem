{
 "cells": [
  {
   "cell_type": "code",
   "execution_count": 1,
   "metadata": {},
   "outputs": [],
   "source": [
    "#HTML과 XML 문서를 파싱하기위한 파이썬 패키지 다운로드\n",
    "#!pip install beautifulsoup4 \n",
    "#!pip install selenium"
   ]
  },
  {
   "cell_type": "markdown",
   "metadata": {},
   "source": [
    "# selenium 패키지를 사용하기 위한 Chrome Driver 다운로드\n",
    "1. Chrome 다운로드\n",
    "2. 버전에 맞는 Chrome Driver 다운로드 \n",
    "    * Chrome 버전 확인: 크롬 > 더보기 > 도움말 > Chrome 정보\n",
    "    * Chrome Driver 다운로드: https://sites.google.com/a/chromium.org/chromedriver/downloads\n",
    "3. Chrome Driver를 현재 소스코드와 동일한 디렉토리로 이동"
   ]
  },
  {
   "cell_type": "code",
   "execution_count": 2,
   "metadata": {},
   "outputs": [],
   "source": [
    "from selenium import webdriver\n",
    "from bs4 import BeautifulSoup\n",
    "from urllib.request import urlopen\n",
    "from urllib.parse import quote_plus\n",
    "import matplotlib.pyplot as plt\n",
    "import numpy as np\n",
    "from PIL import Image\n",
    "import time\n",
    "import os"
   ]
  },
  {
   "cell_type": "code",
   "execution_count": 3,
   "metadata": {},
   "outputs": [],
   "source": [
    "NUM = 1000 #크롤링할 이미지 최대 개수(이미지는 NUM이하로 크롤링됨)"
   ]
  },
  {
   "cell_type": "code",
   "execution_count": 4,
   "metadata": {},
   "outputs": [
    {
     "ename": "WebDriverException",
     "evalue": "Message: 'chromedriver.exe' executable needs to be in PATH. Please see https://sites.google.com/a/chromium.org/chromedriver/home\n",
     "output_type": "error",
     "traceback": [
      "\u001b[1;31m---------------------------------------------------------------------------\u001b[0m",
      "\u001b[1;31mFileNotFoundError\u001b[0m                         Traceback (most recent call last)",
      "\u001b[1;32m~\\anaconda3\\lib\\site-packages\\selenium\\webdriver\\common\\service.py\u001b[0m in \u001b[0;36mstart\u001b[1;34m(self)\u001b[0m\n\u001b[0;32m     71\u001b[0m             \u001b[0mcmd\u001b[0m\u001b[1;33m.\u001b[0m\u001b[0mextend\u001b[0m\u001b[1;33m(\u001b[0m\u001b[0mself\u001b[0m\u001b[1;33m.\u001b[0m\u001b[0mcommand_line_args\u001b[0m\u001b[1;33m(\u001b[0m\u001b[1;33m)\u001b[0m\u001b[1;33m)\u001b[0m\u001b[1;33m\u001b[0m\u001b[1;33m\u001b[0m\u001b[0m\n\u001b[1;32m---> 72\u001b[1;33m             self.process = subprocess.Popen(cmd, env=self.env,\n\u001b[0m\u001b[0;32m     73\u001b[0m                                             \u001b[0mclose_fds\u001b[0m\u001b[1;33m=\u001b[0m\u001b[0mplatform\u001b[0m\u001b[1;33m.\u001b[0m\u001b[0msystem\u001b[0m\u001b[1;33m(\u001b[0m\u001b[1;33m)\u001b[0m \u001b[1;33m!=\u001b[0m \u001b[1;34m'Windows'\u001b[0m\u001b[1;33m,\u001b[0m\u001b[1;33m\u001b[0m\u001b[1;33m\u001b[0m\u001b[0m\n",
      "\u001b[1;32m~\\anaconda3\\lib\\subprocess.py\u001b[0m in \u001b[0;36m__init__\u001b[1;34m(self, args, bufsize, executable, stdin, stdout, stderr, preexec_fn, close_fds, shell, cwd, env, universal_newlines, startupinfo, creationflags, restore_signals, start_new_session, pass_fds, encoding, errors, text)\u001b[0m\n\u001b[0;32m    853\u001b[0m \u001b[1;33m\u001b[0m\u001b[0m\n\u001b[1;32m--> 854\u001b[1;33m             self._execute_child(args, executable, preexec_fn, close_fds,\n\u001b[0m\u001b[0;32m    855\u001b[0m                                 \u001b[0mpass_fds\u001b[0m\u001b[1;33m,\u001b[0m \u001b[0mcwd\u001b[0m\u001b[1;33m,\u001b[0m \u001b[0menv\u001b[0m\u001b[1;33m,\u001b[0m\u001b[1;33m\u001b[0m\u001b[1;33m\u001b[0m\u001b[0m\n",
      "\u001b[1;32m~\\anaconda3\\lib\\subprocess.py\u001b[0m in \u001b[0;36m_execute_child\u001b[1;34m(self, args, executable, preexec_fn, close_fds, pass_fds, cwd, env, startupinfo, creationflags, shell, p2cread, p2cwrite, c2pread, c2pwrite, errread, errwrite, unused_restore_signals, unused_start_new_session)\u001b[0m\n\u001b[0;32m   1306\u001b[0m             \u001b[1;32mtry\u001b[0m\u001b[1;33m:\u001b[0m\u001b[1;33m\u001b[0m\u001b[1;33m\u001b[0m\u001b[0m\n\u001b[1;32m-> 1307\u001b[1;33m                 hp, ht, pid, tid = _winapi.CreateProcess(executable, args,\n\u001b[0m\u001b[0;32m   1308\u001b[0m                                          \u001b[1;31m# no special security\u001b[0m\u001b[1;33m\u001b[0m\u001b[1;33m\u001b[0m\u001b[1;33m\u001b[0m\u001b[0m\n",
      "\u001b[1;31mFileNotFoundError\u001b[0m: [WinError 2] 지정된 파일을 찾을 수 없습니다",
      "\nDuring handling of the above exception, another exception occurred:\n",
      "\u001b[1;31mWebDriverException\u001b[0m                        Traceback (most recent call last)",
      "\u001b[1;32m<ipython-input-4-63192f34d9f1>\u001b[0m in \u001b[0;36m<module>\u001b[1;34m\u001b[0m\n\u001b[1;32m----> 1\u001b[1;33m \u001b[0mdriver\u001b[0m \u001b[1;33m=\u001b[0m \u001b[0mwebdriver\u001b[0m\u001b[1;33m.\u001b[0m\u001b[0mChrome\u001b[0m\u001b[1;33m(\u001b[0m\u001b[1;34m'./chromedriver.exe'\u001b[0m\u001b[1;33m)\u001b[0m\u001b[1;33m\u001b[0m\u001b[1;33m\u001b[0m\u001b[0m\n\u001b[0m\u001b[0;32m      2\u001b[0m \u001b[0mdriver\u001b[0m\u001b[1;33m.\u001b[0m\u001b[0mimplicitly_wait\u001b[0m\u001b[1;33m(\u001b[0m\u001b[1;36m3\u001b[0m\u001b[1;33m)\u001b[0m\u001b[1;33m\u001b[0m\u001b[1;33m\u001b[0m\u001b[0m\n",
      "\u001b[1;32m~\\anaconda3\\lib\\site-packages\\selenium\\webdriver\\chrome\\webdriver.py\u001b[0m in \u001b[0;36m__init__\u001b[1;34m(self, executable_path, port, options, service_args, desired_capabilities, service_log_path, chrome_options, keep_alive)\u001b[0m\n\u001b[0;32m     71\u001b[0m             \u001b[0mservice_args\u001b[0m\u001b[1;33m=\u001b[0m\u001b[0mservice_args\u001b[0m\u001b[1;33m,\u001b[0m\u001b[1;33m\u001b[0m\u001b[1;33m\u001b[0m\u001b[0m\n\u001b[0;32m     72\u001b[0m             log_path=service_log_path)\n\u001b[1;32m---> 73\u001b[1;33m         \u001b[0mself\u001b[0m\u001b[1;33m.\u001b[0m\u001b[0mservice\u001b[0m\u001b[1;33m.\u001b[0m\u001b[0mstart\u001b[0m\u001b[1;33m(\u001b[0m\u001b[1;33m)\u001b[0m\u001b[1;33m\u001b[0m\u001b[1;33m\u001b[0m\u001b[0m\n\u001b[0m\u001b[0;32m     74\u001b[0m \u001b[1;33m\u001b[0m\u001b[0m\n\u001b[0;32m     75\u001b[0m         \u001b[1;32mtry\u001b[0m\u001b[1;33m:\u001b[0m\u001b[1;33m\u001b[0m\u001b[1;33m\u001b[0m\u001b[0m\n",
      "\u001b[1;32m~\\anaconda3\\lib\\site-packages\\selenium\\webdriver\\common\\service.py\u001b[0m in \u001b[0;36mstart\u001b[1;34m(self)\u001b[0m\n\u001b[0;32m     79\u001b[0m         \u001b[1;32mexcept\u001b[0m \u001b[0mOSError\u001b[0m \u001b[1;32mas\u001b[0m \u001b[0merr\u001b[0m\u001b[1;33m:\u001b[0m\u001b[1;33m\u001b[0m\u001b[1;33m\u001b[0m\u001b[0m\n\u001b[0;32m     80\u001b[0m             \u001b[1;32mif\u001b[0m \u001b[0merr\u001b[0m\u001b[1;33m.\u001b[0m\u001b[0merrno\u001b[0m \u001b[1;33m==\u001b[0m \u001b[0merrno\u001b[0m\u001b[1;33m.\u001b[0m\u001b[0mENOENT\u001b[0m\u001b[1;33m:\u001b[0m\u001b[1;33m\u001b[0m\u001b[1;33m\u001b[0m\u001b[0m\n\u001b[1;32m---> 81\u001b[1;33m                 raise WebDriverException(\n\u001b[0m\u001b[0;32m     82\u001b[0m                     \"'%s' executable needs to be in PATH. %s\" % (\n\u001b[0;32m     83\u001b[0m                         os.path.basename(self.path), self.start_error_message)\n",
      "\u001b[1;31mWebDriverException\u001b[0m: Message: 'chromedriver.exe' executable needs to be in PATH. Please see https://sites.google.com/a/chromium.org/chromedriver/home\n"
     ]
    }
   ],
   "source": [
    "driver = webdriver.Chrome('./chromedriver.exe')\n",
    "driver.implicitly_wait(3)"
   ]
  },
  {
   "cell_type": "code",
   "execution_count": null,
   "metadata": {},
   "outputs": [],
   "source": [
    "def loadHtml(path):\n",
    "    driver.get(path)\n",
    "    driver.implicitly_wait(3)\n",
    "    html = driver.page_source\n",
    "    soup = BeautifulSoup(html, 'html.parser')\n",
    "    return soup.find_all('img')"
   ]
  },
  {
   "cell_type": "code",
   "execution_count": null,
   "metadata": {},
   "outputs": [],
   "source": [
    "def crawlingImage(n,savepath,failStack):\n",
    "    html = driver.page_source\n",
    "    soup = BeautifulSoup(html, 'html.parser')\n",
    "    img = soup.find_all('img')\n",
    "    print(len(img), n)\n",
    "    if len(img)<=n:\n",
    "        driver.execute_script(\"window.scrollTo(0,document.body.scrollHeight)\")\n",
    "        result = driver.execute_script(\n",
    "            '''\n",
    "            if(document.getElementsByClassName(\"mye4qd\")[0].getAttribute(\"value\")===\"결과 더보기\")\n",
    "                document.getElementsByClassName(\"mye4qd\")[0].click()\n",
    "            '''\n",
    "            )\n",
    "        failStack += 1\n",
    "        if failStack > 5:\n",
    "            return n, -1\n",
    "        else:\n",
    "            return n, failStack\n",
    "    \n",
    "    for i in img[n:]:\n",
    "        print(n)\n",
    "        try:\n",
    "            imgUrl = i['src']\n",
    "        except KeyError:\n",
    "            try:\n",
    "                imgUrl = i['data-src']\n",
    "            except KeyError:\n",
    "                continue\n",
    "    \n",
    "        with urlopen(imgUrl) as f:\n",
    "            with open(savepath + str(n)+'.jpg','wb') as h: # w - write b - binary\n",
    "                img = f.read()\n",
    "                h.write(img)\n",
    "        with Image.open(savepath + str(n)+'.jpg') as image:\n",
    "            plt.imshow(image)\n",
    "            plt.show()\n",
    "        n += 1\n",
    "        #driver.execute_script(\"window.scrollTo(0, {})\".format(n*(231//4)))\n",
    "        \n",
    "        if n > NUM:\n",
    "            break\n",
    "    failStack = 0\n",
    "    return n, failStack"
   ]
  },
  {
   "cell_type": "markdown",
   "metadata": {},
   "source": [
    "# crawling \"fire\" image in google"
   ]
  },
  {
   "cell_type": "code",
   "execution_count": null,
   "metadata": {
    "scrolled": true
   },
   "outputs": [],
   "source": [
    "img = loadHtml('https://www.google.co.kr/search?hl=ko&tbm=isch&source=hp&biw=1036&bih=674&ei=Dlw2YJLRH5fr-Qbrx7SQDg&q=fire&oq=fire&gs_lcp=CgNpbWcQAzIFCAAQsQMyAggAMgIIADICCAAyBQgAELEDMgIIADICCAAyAggAMggIABCxAxCDATICCABQ0wdYzgpg9gtoAHAAeACAAYsBiAHwA5IBAzAuNJgBAKABAaoBC2d3cy13aXotaW1n&sclient=img&ved=0ahUKEwiSkLKx14LvAhWXdd4KHesjDeIQ4dUDCAc&uact=5')\n",
    "\n",
    "n = 0\n",
    "failStack = 0\n",
    "while n<NUM:\n",
    "    n, failStack = crawlingImage(n,'./data/crawled_images/1/img',failStack)\n",
    "    if failStack==-1:\n",
    "        print(\"{}개의 이미지 크롤링 성공\".format(n))\n",
    "        break"
   ]
  },
  {
   "cell_type": "markdown",
   "metadata": {},
   "source": [
    "# Crawling \"\"fire smoke in city\" OR \"fire smoke\"\" image in google"
   ]
  },
  {
   "cell_type": "code",
   "execution_count": null,
   "metadata": {},
   "outputs": [],
   "source": [
    "img = loadHtml('https://www.google.com/search?q=%22fire+smoke+in+city%22+OR+%22fire+smoke%22&tbm=isch&ved=2ahUKEwj4pIjJ15HvAhVC6pQKHf-6CK0Q2-cCegQIABAA&oq=%22fire+smoke+in+city%22+OR+%22fire+smoke%22&gs_lcp=CgNpbWcQA1CsK1iQLGD5LmgAcAB4AIABWYgBqQGSAQEymAEAoAEBqgELZ3dzLXdpei1pbWfAAQE&sclient=img&ei=hDk-YPjSDsLU0wT_9aLoCg&bih=754&biw=1536&rlz=1C1OKWM_koKR870KR870')\n",
    "n = 0\n",
    "failStack = 0\n",
    "while n<NUM :\n",
    "    n, failStack = crawlingImage(n,'./data/crawled_images/2/img', failStack)\n",
    "    if failStack==-1:\n",
    "        print(\"{}개의 이미지 크롤링 성공\".format(n))\n",
    "        break"
   ]
  },
  {
   "cell_type": "markdown",
   "metadata": {},
   "source": [
    "# Crawling \"school OR factory OR school OR street OR landscape\" image in google"
   ]
  },
  {
   "cell_type": "code",
   "execution_count": null,
   "metadata": {
    "scrolled": true
   },
   "outputs": [],
   "source": [
    "img = loadHtml('https://www.google.com/search?as_st=y&tbm=isch&hl=ko&as_q=school+OR+factory+OR+school+OR+street+OR+landscape&as_epq=&as_oq=&as_eq=&cr=&as_sitesearch=&safe=active&tbs=itp:photo,ic:color,ift:jpg')\n",
    "n = 0\n",
    "failStack = 0\n",
    "while n<NUM:\n",
    "    n, failStack = crawlingImage(n,'./data/crawled_images/0/img', failStack)\n",
    "    if failStack==-1:\n",
    "        print(\"{}개의 이미지 크롤링 성공\".format(n))\n",
    "        break"
   ]
  },
  {
   "cell_type": "code",
   "execution_count": null,
   "metadata": {},
   "outputs": [],
   "source": [
    "cur_dir = os.getcwd()\n",
    "data_dir = os.path.join(cur_dir, 'data')\n",
    "crawled_dir = os.path.join(data_dir, 'crawled_images')\n",
    "class0_dir = os.path.join(crawled_dir,'0')\n",
    "class1_dir = os.path.join(crawled_dir,'1')\n",
    "class2_dir = os.path.join(crawled_dir,'2')\n",
    "\n",
    "normal_img_files = os.listdir(class0_dir)\n",
    "fire_img_files = os.listdir(class1_dir)\n",
    "smoke_img_files = os.listdir(class2_dir)\n",
    "\n",
    "for img in normal_img_files:\n",
    "    img_path = os.path.join(class0_dir,img)\n",
    "    image = Image.open(img_path)\n",
    "    image_mode = image.mode\n",
    "    if image_mode != 'RGB':\n",
    "        print(img, image_mode)\n",
    "        image = np.asarray(image)\n",
    "        print(image.shape)\n",
    "        os.remove(img_path)\n",
    "\n",
    "for img in fire_img_files:\n",
    "    img_path = os.path.join(class1_dir,img)\n",
    "    image = Image.open(img_path)\n",
    "    image_mode = image.mode\n",
    "    if image_mode != 'RGB':\n",
    "        print(img, image_mode)\n",
    "        image = np.asarray(image)\n",
    "        print(image.shape)\n",
    "        os.remove(img_path)\n",
    "        \n",
    "for img in smoke_img_files:\n",
    "    img_path = os.path.join(class2_dir,img)\n",
    "    image = Image.open(img_path)\n",
    "    image_mode = image.mode\n",
    "    if image_mode != 'RGB':\n",
    "        print(img, image_mode)\n",
    "        image = np.asarray(image)\n",
    "        print(image.shape)\n",
    "        os.remove(img_path)"
   ]
  }
 ],
 "metadata": {
  "kernelspec": {
   "display_name": "Python 3",
   "language": "python",
   "name": "python3"
  },
  "language_info": {
   "codemirror_mode": {
    "name": "ipython",
    "version": 3
   },
   "file_extension": ".py",
   "mimetype": "text/x-python",
   "name": "python",
   "nbconvert_exporter": "python",
   "pygments_lexer": "ipython3",
   "version": "3.8.5"
  }
 },
 "nbformat": 4,
 "nbformat_minor": 4
}
