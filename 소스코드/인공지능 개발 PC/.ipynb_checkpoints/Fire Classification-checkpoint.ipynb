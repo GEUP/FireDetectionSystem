{
 "cells": [
  {
   "cell_type": "code",
   "execution_count": 1,
   "metadata": {
    "executionInfo": {
     "elapsed": 7323,
     "status": "ok",
     "timestamp": 1622380122125,
     "user": {
      "displayName": "김은란/컴퓨터공학전공/학생",
      "photoUrl": "",
      "userId": "12771623514668636348"
     },
     "user_tz": -540
    },
    "id": "S2zV70MfJ2Z6"
   },
   "outputs": [],
   "source": [
    "import os, sys\n",
    "import tensorflow as tf\n",
    "from tensorflow import keras\n",
    "import matplotlib.pyplot as plt\n",
    "import numpy as np\n",
    "from PIL import Image\n",
    "import random\n",
    "from tqdm.notebook import tqdm\n",
    "from pandas import DataFrame\n",
    "import pandas as pd\n",
    "import random\n",
    "import time"
   ]
  },
  {
   "cell_type": "markdown",
   "metadata": {
    "id": "VL96Iha8J2Z8"
   },
   "source": [
    "## 데이터 준비"
   ]
  },
  {
   "cell_type": "code",
   "execution_count": 41,
   "metadata": {},
   "outputs": [],
   "source": [
    "data = DataFrame(columns=['key','common train data len','fire train data len','smoke train data len', \n",
    "                          'common validation data len','fire validation data len','smoke validation data len',\n",
    "                          'EPOCHS',\n",
    "                          'learning_rate_schedule',\n",
    "                          'batch size',\n",
    "                          'loss_func',\n",
    "                          'optimizer',\n",
    "                          'comment',\n",
    "                          'test_accuracy',\n",
    "                          'train time'\n",
    "                         ])"
   ]
  },
  {
   "cell_type": "code",
   "execution_count": 3,
   "metadata": {},
   "outputs": [],
   "source": [
    "data = pd.read_csv('./result/HyperParameter.csv',encoding='euc-kr')"
   ]
  },
  {
   "cell_type": "code",
   "execution_count": 4,
   "metadata": {
    "executionInfo": {
     "elapsed": 26,
     "status": "ok",
     "timestamp": 1622380122137,
     "user": {
      "displayName": "김은란/컴퓨터공학전공/학생",
      "photoUrl": "",
      "userId": "12771623514668636348"
     },
     "user_tz": -540
    },
    "id": "apuPEzPAJ2Z9"
   },
   "outputs": [],
   "source": [
    "IMG_SIZE = 224"
   ]
  },
  {
   "cell_type": "code",
   "execution_count": 5,
   "metadata": {},
   "outputs": [],
   "source": [
    "cur_dir = os.getcwd()"
   ]
  },
  {
   "cell_type": "code",
   "execution_count": 6,
   "metadata": {},
   "outputs": [
    {
     "data": {
      "text/plain": [
       "'# mount google drive \\nfrom google.colab import drive\\n\\ndrive.mount(\\'/content/gdrive/\\')\\ncur_dir = os.path.join(cur_dir,\"/content/gdrive/MyDrive/fire detection\")'"
      ]
     },
     "execution_count": 6,
     "metadata": {},
     "output_type": "execute_result"
    }
   ],
   "source": [
    "\"\"\"# mount google drive \n",
    "from google.colab import drive\n",
    "\n",
    "drive.mount('/content/gdrive/')\n",
    "cur_dir = os.path.join(cur_dir,\"/content/gdrive/MyDrive/fire detection\")\"\"\""
   ]
  },
  {
   "cell_type": "code",
   "execution_count": 7,
   "metadata": {
    "colab": {
     "base_uri": "https://localhost:8080/"
    },
    "executionInfo": {
     "elapsed": 24,
     "status": "ok",
     "timestamp": 1622380122138,
     "user": {
      "displayName": "김은란/컴퓨터공학전공/학생",
      "photoUrl": "",
      "userId": "12771623514668636348"
     },
     "user_tz": -540
    },
    "id": "2awKliL-J2Z-",
    "outputId": "5c38f425-dc85-444d-bfd2-ad322d76c3e0"
   },
   "outputs": [],
   "source": [
    "cur_dir = os.getcwd()\n",
    "data_dir = os.path.join(cur_dir,'data')\n",
    "camera_dir = os.path.join(data_dir,'crawled_images')\n",
    "camera0_dir = os.path.join(camera_dir,'0')\n",
    "camera1_dir = os.path.join(camera_dir,'1')\n",
    "camera2_dir = os.path.join(camera_dir,'2')"
   ]
  },
  {
   "cell_type": "code",
   "execution_count": 8,
   "metadata": {},
   "outputs": [
    {
     "data": {
      "text/plain": [
       "'normal_img_files = os.listdir(camera0_dir)\\nfire_img_files = os.listdir(camera1_dir)\\nsmoke_img_files = os.listdir(camera2_dir)\\nprint(len(normal_img_files), len(fire_img_files), len(smoke_img_files))'"
      ]
     },
     "execution_count": 8,
     "metadata": {},
     "output_type": "execute_result"
    }
   ],
   "source": [
    "'''normal_img_files = os.listdir(camera0_dir)\n",
    "fire_img_files = os.listdir(camera1_dir)\n",
    "smoke_img_files = os.listdir(camera2_dir)\n",
    "print(len(normal_img_files), len(fire_img_files), len(smoke_img_files))'''"
   ]
  },
  {
   "cell_type": "code",
   "execution_count": 9,
   "metadata": {
    "executionInfo": {
     "elapsed": 16394,
     "status": "ok",
     "timestamp": 1622380138515,
     "user": {
      "displayName": "김은란/컴퓨터공학전공/학생",
      "photoUrl": "",
      "userId": "12771623514668636348"
     },
     "user_tz": -540
    },
    "id": "keBXoWshJ2Z_"
   },
   "outputs": [
    {
     "data": {
      "text/plain": [
       "\"tfr_dir = os.path.join(camera_dir,'tfrecord')\\nos.makedirs(tfr_dir, exist_ok=True)\\n\\ntrain_tfr_dir = os.path.join(tfr_dir,'train.tfr')\\nval_tfr_dir = os.path.join(tfr_dir,'val.tfr')\\n\""
      ]
     },
     "execution_count": 9,
     "metadata": {},
     "output_type": "execute_result"
    }
   ],
   "source": [
    "'''tfr_dir = os.path.join(camera_dir,'tfrecord')\n",
    "os.makedirs(tfr_dir, exist_ok=True)\n",
    "\n",
    "train_tfr_dir = os.path.join(tfr_dir,'train.tfr')\n",
    "val_tfr_dir = os.path.join(tfr_dir,'val.tfr')\n",
    "'''"
   ]
  },
  {
   "cell_type": "code",
   "execution_count": 10,
   "metadata": {},
   "outputs": [],
   "source": [
    "tfr_dir = os.path.join(camera_dir,'tfrecord-before augmentation')\n",
    "os.makedirs(tfr_dir, exist_ok=True)\n",
    "\n",
    "train_tfr_dir = os.path.join(tfr_dir,'train.tfr')\n",
    "val_tfr_dir = os.path.join(tfr_dir,'val.tfr')"
   ]
  },
  {
   "cell_type": "code",
   "execution_count": 11,
   "metadata": {},
   "outputs": [],
   "source": [
    "N_N_TRAIN = 3900\n",
    "N_N_VAL = 1301\n",
    "\n",
    "N_F_TRAIN = 1608\n",
    "N_F_VAL = 537\n",
    "\n",
    "N_S_TRAIN = 768\n",
    "N_S_VAL = 257"
   ]
  },
  {
   "cell_type": "code",
   "execution_count": 12,
   "metadata": {},
   "outputs": [
    {
     "data": {
      "text/plain": [
       "'N_N_TRAIN = 3 * (len(normal_img_files) // 4)\\nN_N_VAL = len(normal_img_files) - N_N_TRAIN\\n\\nN_F_TRAIN = 3 * (len(fire_img_files) // 4)\\nN_F_VAL = len(fire_img_files) - N_F_TRAIN\\n\\nN_S_TRAIN = 3 * (len(smoke_img_files) // 4)\\nN_S_VAL = len(smoke_img_files) - N_S_TRAIN'"
      ]
     },
     "execution_count": 12,
     "metadata": {},
     "output_type": "execute_result"
    }
   ],
   "source": [
    "'''N_N_TRAIN = 3 * (len(normal_img_files) // 4)\n",
    "N_N_VAL = len(normal_img_files) - N_N_TRAIN\n",
    "\n",
    "N_F_TRAIN = 3 * (len(fire_img_files) // 4)\n",
    "N_F_VAL = len(fire_img_files) - N_F_TRAIN\n",
    "\n",
    "N_S_TRAIN = 3 * (len(smoke_img_files) // 4)\n",
    "N_S_VAL = len(smoke_img_files) - N_S_TRAIN'''"
   ]
  },
  {
   "cell_type": "code",
   "execution_count": 13,
   "metadata": {
    "colab": {
     "base_uri": "https://localhost:8080/",
     "height": 86
    },
    "executionInfo": {
     "elapsed": 57,
     "status": "ok",
     "timestamp": 1622380138517,
     "user": {
      "displayName": "김은란/컴퓨터공학전공/학생",
      "photoUrl": "",
      "userId": "12771623514668636348"
     },
     "user_tz": -540
    },
    "id": "v9u1DJvcJ2aA",
    "outputId": "d4c2ec58-96cd-415a-e716-a6b8ae19c72e"
   },
   "outputs": [
    {
     "data": {
      "text/plain": [
       "\"#학습 데이터를 용량이 적은 RAM 대신에 디스크에서 필요한 만큼 불러가면서 학습하기 위해 tfrecord를 사용함\\n#학습 데이터 디스크에 저장 \\n\\ntrain_tfr_writer = tf.io.TFRecordWriter(train_tfr_dir)\\nval_tfr_writer = tf.io.TFRecordWriter(val_tfr_dir)\\n\\ndef _bytes_feature(value):\\n    if isinstance(value, type(tf.constant(0))):\\n        value = value.numpy()\\n    return tf.train.Feature(bytes_list=tf.train.BytesList(value=[value]))\\n\\ndef _float_feature(value):\\n    return tf.train.Feature(float_list=tf.train.FloatList(value=[value]))\\n\\ndef _int64_feature(value):\\n    return tf.train.Feature(int64_list=tf.train.Int64List(value=[value]))\\n\\n\\n\\nfor i, file in enumerate(tqdm(normal_img_files)):\\n    img_path = os.path.join(camera0_dir, file)\\n    image = Image.open(img_path)\\n    image = image.resize((IMG_SIZE, IMG_SIZE))\\n    bimage = image.tobytes()\\n    \\n    example = tf.train.Example(features = tf.train.Features(feature = {\\n        'image':_bytes_feature(bimage),\\n        'cls_num':_int64_feature(0)\\n    }))\\n    if i < N_N_TRAIN:\\n        train_tfr_writer.write(example.SerializeToString())\\n    else:\\n        val_tfr_writer.write(example.SerializeToString())\\n\""
      ]
     },
     "execution_count": 13,
     "metadata": {},
     "output_type": "execute_result"
    }
   ],
   "source": [
    "'''#학습 데이터를 용량이 적은 RAM 대신에 디스크에서 필요한 만큼 불러가면서 학습하기 위해 tfrecord를 사용함\n",
    "#학습 데이터 디스크에 저장 \n",
    "\n",
    "train_tfr_writer = tf.io.TFRecordWriter(train_tfr_dir)\n",
    "val_tfr_writer = tf.io.TFRecordWriter(val_tfr_dir)\n",
    "\n",
    "def _bytes_feature(value):\n",
    "    if isinstance(value, type(tf.constant(0))):\n",
    "        value = value.numpy()\n",
    "    return tf.train.Feature(bytes_list=tf.train.BytesList(value=[value]))\n",
    "\n",
    "def _float_feature(value):\n",
    "    return tf.train.Feature(float_list=tf.train.FloatList(value=[value]))\n",
    "\n",
    "def _int64_feature(value):\n",
    "    return tf.train.Feature(int64_list=tf.train.Int64List(value=[value]))\n",
    "\n",
    "\n",
    "\n",
    "for i, file in enumerate(tqdm(normal_img_files)):\n",
    "    img_path = os.path.join(camera0_dir, file)\n",
    "    image = Image.open(img_path)\n",
    "    image = image.resize((IMG_SIZE, IMG_SIZE))\n",
    "    bimage = image.tobytes()\n",
    "    \n",
    "    example = tf.train.Example(features = tf.train.Features(feature = {\n",
    "        'image':_bytes_feature(bimage),\n",
    "        'cls_num':_int64_feature(0)\n",
    "    }))\n",
    "    if i < N_N_TRAIN:\n",
    "        train_tfr_writer.write(example.SerializeToString())\n",
    "    else:\n",
    "        val_tfr_writer.write(example.SerializeToString())\n",
    "'''"
   ]
  },
  {
   "cell_type": "code",
   "execution_count": 14,
   "metadata": {
    "colab": {
     "base_uri": "https://localhost:8080/",
     "height": 86
    },
    "executionInfo": {
     "elapsed": 26,
     "status": "ok",
     "timestamp": 1622380138518,
     "user": {
      "displayName": "김은란/컴퓨터공학전공/학생",
      "photoUrl": "",
      "userId": "12771623514668636348"
     },
     "user_tz": -540
    },
    "id": "8e0y7dSklFj6",
    "outputId": "1caed77b-680d-4430-a950-392d7822006d"
   },
   "outputs": [
    {
     "data": {
      "text/plain": [
       "\"\\nfor i, file in enumerate(tqdm(fire_img_files)):\\n    img_path = os.path.join(camera1_dir,file)\\n    image = Image.open(img_path)\\n    image = image.resize((IMG_SIZE,IMG_SIZE))\\n    bimage = image.tobytes()\\n    \\n    example = tf.train.Example(features=tf.train.Features(feature={\\n        'image':_bytes_feature(bimage),\\n        'cls_num':_int64_feature(1)\\n    }))\\n    \\n    if i < N_F_TRAIN:\\n        train_tfr_writer.write(example.SerializeToString())\\n    else:\\n        val_tfr_writer.write(example.SerializeToString())\\n\""
      ]
     },
     "execution_count": 14,
     "metadata": {},
     "output_type": "execute_result"
    }
   ],
   "source": [
    "\n",
    "\"\"\"\n",
    "for i, file in enumerate(tqdm(fire_img_files)):\n",
    "    img_path = os.path.join(camera1_dir,file)\n",
    "    image = Image.open(img_path)\n",
    "    image = image.resize((IMG_SIZE,IMG_SIZE))\n",
    "    bimage = image.tobytes()\n",
    "    \n",
    "    example = tf.train.Example(features=tf.train.Features(feature={\n",
    "        'image':_bytes_feature(bimage),\n",
    "        'cls_num':_int64_feature(1)\n",
    "    }))\n",
    "    \n",
    "    if i < N_F_TRAIN:\n",
    "        train_tfr_writer.write(example.SerializeToString())\n",
    "    else:\n",
    "        val_tfr_writer.write(example.SerializeToString())\n",
    "\"\"\""
   ]
  },
  {
   "cell_type": "code",
   "execution_count": 15,
   "metadata": {
    "colab": {
     "base_uri": "https://localhost:8080/",
     "height": 86
    },
    "executionInfo": {
     "elapsed": 24,
     "status": "ok",
     "timestamp": 1622380138519,
     "user": {
      "displayName": "김은란/컴퓨터공학전공/학생",
      "photoUrl": "",
      "userId": "12771623514668636348"
     },
     "user_tz": -540
    },
    "id": "YfcGetGYlFKN",
    "outputId": "163582ce-bf42-4eba-fc38-127bacfc52c7"
   },
   "outputs": [
    {
     "data": {
      "text/plain": [
       "\"for i, file in enumerate(tqdm(smoke_img_files)):\\n    img_path = os.path.join(camera2_dir,file)\\n    image = Image.open(img_path)\\n    image = image.resize((IMG_SIZE,IMG_SIZE))\\n    bimage = image.tobytes()\\n    \\n    example = tf.train.Example(features=tf.train.Features(feature={\\n        'image':_bytes_feature(bimage),\\n        'cls_num':_int64_feature(2)\\n    }))\\n    \\n    if i < N_S_TRAIN:\\n        train_tfr_writer.write(example.SerializeToString())\\n    else:\\n        val_tfr_writer.write(example.SerializeToString())\\n        \\ntrain_tfr_writer.close()\\nval_tfr_writer.close()\""
      ]
     },
     "execution_count": 15,
     "metadata": {},
     "output_type": "execute_result"
    }
   ],
   "source": [
    "\n",
    "\n",
    "\"\"\"for i, file in enumerate(tqdm(smoke_img_files)):\n",
    "    img_path = os.path.join(camera2_dir,file)\n",
    "    image = Image.open(img_path)\n",
    "    image = image.resize((IMG_SIZE,IMG_SIZE))\n",
    "    bimage = image.tobytes()\n",
    "    \n",
    "    example = tf.train.Example(features=tf.train.Features(feature={\n",
    "        'image':_bytes_feature(bimage),\n",
    "        'cls_num':_int64_feature(2)\n",
    "    }))\n",
    "    \n",
    "    if i < N_S_TRAIN:\n",
    "        train_tfr_writer.write(example.SerializeToString())\n",
    "    else:\n",
    "        val_tfr_writer.write(example.SerializeToString())\n",
    "        \n",
    "train_tfr_writer.close()\n",
    "val_tfr_writer.close()\"\"\"\n"
   ]
  },
  {
   "cell_type": "code",
   "execution_count": 16,
   "metadata": {
    "executionInfo": {
     "elapsed": 24,
     "status": "ok",
     "timestamp": 1622380138522,
     "user": {
      "displayName": "김은란/컴퓨터공학전공/학생",
      "photoUrl": "",
      "userId": "12771623514668636348"
     },
     "user_tz": -540
    },
    "id": "-ksChT8cJ2aB"
   },
   "outputs": [],
   "source": [
    "#데이터 수 계산\n",
    "N_TRAIN = N_F_TRAIN+N_N_TRAIN+N_S_TRAIN #train 데이터의 총 개수\n",
    "N_VAL = N_F_VAL + N_N_VAL + N_S_VAL #vlaidation 데이터의 총 개수\n",
    "N_BATCH = 32 #batch size"
   ]
  },
  {
   "cell_type": "code",
   "execution_count": 17,
   "metadata": {
    "executionInfo": {
     "elapsed": 478,
     "status": "ok",
     "timestamp": 1622380138978,
     "user": {
      "displayName": "김은란/컴퓨터공학전공/학생",
      "photoUrl": "",
      "userId": "12771623514668636348"
     },
     "user_tz": -540
    },
    "id": "aTi73ATnJ2aC"
   },
   "outputs": [],
   "source": [
    "#디스크에서 학습 데이터를 필요한 만큼 불러오는 인스턴스 생성\n",
    "def _parse_function(tfreced_serialized):\n",
    "    features = {\n",
    "        'image':tf.io.FixedLenFeature([],tf.string),\n",
    "        'cls_num':tf.io.FixedLenFeature([],tf.int64)\n",
    "    }\n",
    "    \n",
    "    parsed_features = tf.io.parse_single_example(tfreced_serialized,features)\n",
    "    \n",
    "    image = tf.io.decode_raw(parsed_features['image'], tf.uint8)\n",
    "    image = tf.reshape(image,[IMG_SIZE,IMG_SIZE,3])\n",
    "    image = tf.cast(image,tf.float32)/255.\n",
    "    \n",
    "    cls_label = tf.cast(parsed_features['cls_num'],tf.int64)\n",
    "    \n",
    "    return image, cls_label\n",
    "\n",
    "train_dataset = tf.data.TFRecordDataset(train_tfr_dir)\n",
    "train_dataset = train_dataset.map(_parse_function, num_parallel_calls=tf.data.experimental.AUTOTUNE)\n",
    "train_dataset = train_dataset.shuffle(buffer_size=N_TRAIN).prefetch(tf.data.experimental.AUTOTUNE).batch(N_BATCH).repeat()\n",
    "\n",
    "val_dataset = tf.data.TFRecordDataset(val_tfr_dir)\n",
    "val_dataset = val_dataset.map(_parse_function,num_parallel_calls=tf.data.experimental.AUTOTUNE)\n",
    "val_dataset = val_dataset.batch(N_BATCH).repeat()"
   ]
  },
  {
   "cell_type": "code",
   "execution_count": 18,
   "metadata": {
    "colab": {
     "base_uri": "https://localhost:8080/",
     "height": 52
    },
    "executionInfo": {
     "elapsed": 19,
     "status": "ok",
     "timestamp": 1622380138981,
     "user": {
      "displayName": "김은란/컴퓨터공학전공/학생",
      "photoUrl": "",
      "userId": "12771623514668636348"
     },
     "user_tz": -540
    },
    "id": "hjGHspB4J2aC",
    "outputId": "2cb0009f-7a0f-4476-a8cf-b7f9052878e3"
   },
   "outputs": [
    {
     "data": {
      "text/plain": [
       "\"#이미지가 잘 불러지고 있는지 확인\\n\\nfor image, label in train_dataset.take(10):\\n    if label[0].numpy()==1:\\n        plt.title('FIRE')\\n    elif label[0].numpy()==0:\\n        plt.title('NOT FIRE')\\n    else:\\n        plt.title('SMOKE')\\n    plt.imshow(image[0])\\n    plt.show()\\n\""
      ]
     },
     "execution_count": 18,
     "metadata": {},
     "output_type": "execute_result"
    }
   ],
   "source": [
    "\"\"\"#이미지가 잘 불러지고 있는지 확인\n",
    "\n",
    "for image, label in train_dataset.take(10):\n",
    "    if label[0].numpy()==1:\n",
    "        plt.title('FIRE')\n",
    "    elif label[0].numpy()==0:\n",
    "        plt.title('NOT FIRE')\n",
    "    else:\n",
    "        plt.title('SMOKE')\n",
    "    plt.imshow(image[0])\n",
    "    plt.show()\n",
    "\"\"\""
   ]
  },
  {
   "cell_type": "markdown",
   "metadata": {
    "id": "2J2uYOJCJ2aE"
   },
   "source": [
    "## 모델 생성"
   ]
  },
  {
   "cell_type": "code",
   "execution_count": 19,
   "metadata": {},
   "outputs": [
    {
     "name": "stdout",
     "output_type": "stream",
     "text": [
      "Downloading data from https://storage.googleapis.com/tensorflow/keras-applications/inception_resnet_v2/inception_resnet_v2_weights_tf_dim_ordering_tf_kernels_notop.h5\n",
      "219062272/219055592 [==============================] - 13s 0us/step\n"
     ]
    }
   ],
   "source": [
    "from tensorflow.python.keras.applications.inception_resnet_v2 import InceptionResNetV2, preprocess_input\n",
    "\n",
    "InceptionresnetV2 = InceptionResNetV2(weights='imagenet', include_top=False, input_shape=(IMG_SIZE, IMG_SIZE, 3))\n",
    "#mobilenetv2.trainable = False"
   ]
  },
  {
   "cell_type": "code",
   "execution_count": 20,
   "metadata": {
    "executionInfo": {
     "elapsed": 18,
     "status": "ok",
     "timestamp": 1622380138984,
     "user": {
      "displayName": "김은란/컴퓨터공학전공/학생",
      "photoUrl": "",
      "userId": "12771623514668636348"
     },
     "user_tz": -540
    },
    "id": "KcMJYx30J2aE"
   },
   "outputs": [],
   "source": [
    "def create_model():\n",
    "    model = tf.keras.Sequential()\n",
    "    model.add(tf.keras.layers.Input([IMG_SIZE, IMG_SIZE, 3], dtype = tf.float32))\n",
    "    model.add(tf.keras.layers.Lambda(preprocess_input, name='preprocessing', input_shape=(224, 224, 3)))\n",
    "    model.add(InceptionresnetV2)\n",
    "    model.add(tf.keras.layers.GlobalAveragePooling2D())\n",
    "    model.add(tf.keras.layers.Dense(3,activation='softmax'))\n",
    "    return model"
   ]
  },
  {
   "cell_type": "code",
   "execution_count": 21,
   "metadata": {
    "colab": {
     "base_uri": "https://localhost:8080/"
    },
    "executionInfo": {
     "elapsed": 318,
     "status": "ok",
     "timestamp": 1622380139286,
     "user": {
      "displayName": "김은란/컴퓨터공학전공/학생",
      "photoUrl": "",
      "userId": "12771623514668636348"
     },
     "user_tz": -540
    },
    "id": "WRkWvRDRJ2aF",
    "outputId": "a6860385-c3f1-47cc-f456-f058c3a35a54"
   },
   "outputs": [
    {
     "name": "stdout",
     "output_type": "stream",
     "text": [
      "Model: \"sequential\"\n",
      "_________________________________________________________________\n",
      "Layer (type)                 Output Shape              Param #   \n",
      "=================================================================\n",
      "preprocessing (Lambda)       (None, 224, 224, 3)       0         \n",
      "_________________________________________________________________\n",
      "inception_resnet_v2 (Functio (None, 5, 5, 1536)        54336736  \n",
      "_________________________________________________________________\n",
      "global_average_pooling2d (Gl (None, 1536)              0         \n",
      "_________________________________________________________________\n",
      "dense (Dense)                (None, 3)                 4611      \n",
      "=================================================================\n",
      "Total params: 54,341,347\n",
      "Trainable params: 54,280,803\n",
      "Non-trainable params: 60,544\n",
      "_________________________________________________________________\n"
     ]
    }
   ],
   "source": [
    "model = create_model()\n",
    "model.summary()"
   ]
  },
  {
   "cell_type": "code",
   "execution_count": 22,
   "metadata": {
    "executionInfo": {
     "elapsed": 13,
     "status": "ok",
     "timestamp": 1622380139288,
     "user": {
      "displayName": "김은란/컴퓨터공학전공/학생",
      "photoUrl": "",
      "userId": "12771623514668636348"
     },
     "user_tz": -540
    },
    "id": "rdwrgglWJ2aG"
   },
   "outputs": [],
   "source": [
    "#하이퍼 파라미터 설정\n",
    "N_EPOCHS = 10\n",
    "learning_rate = 0.0001\n",
    "steps_per_epoch = N_TRAIN/N_BATCH\n",
    "validation_step = int(np.ceil(N_VAL / N_BATCH))\n",
    "\n",
    "#오차 함수\n",
    "def loss_fn(y_true,y_pred):\n",
    "    return keras.losses.SparseCategoricalCrossentropy()(y_true,y_pred)\n",
    "\n",
    "lr_schedule = tf.keras.optimizers.schedules.ExponentialDecay(initial_learning_rate=learning_rate,\n",
    "                                                         decay_steps=steps_per_epoch*2,\n",
    "                                                         decay_rate=0.5,\n",
    "                                                         staircase=True)\n",
    "model.compile(tf.keras.optimizers.RMSprop(lr_schedule),loss=loss_fn, metrics = ['accuracy'])"
   ]
  },
  {
   "cell_type": "code",
   "execution_count": 23,
   "metadata": {
    "colab": {
     "base_uri": "https://localhost:8080/",
     "height": 371
    },
    "executionInfo": {
     "elapsed": 451201,
     "status": "error",
     "timestamp": 1622380590479,
     "user": {
      "displayName": "김은란/컴퓨터공학전공/학생",
      "photoUrl": "",
      "userId": "12771623514668636348"
     },
     "user_tz": -540
    },
    "id": "LoH1x4oEJ2aG",
    "outputId": "78703c3d-b600-4559-b484-de0b51cfd699"
   },
   "outputs": [
    {
     "name": "stdout",
     "output_type": "stream",
     "text": [
      "Epoch 1/10\n",
      "196/196 [==============================] - 6909s 35s/step - loss: 0.3148 - accuracy: 0.8830 - val_loss: 2.1946 - val_accuracy: 0.6210\n",
      "Epoch 2/10\n",
      "196/196 [==============================] - 7662s 39s/step - loss: 0.0682 - accuracy: 0.9786 - val_loss: 1.8838 - val_accuracy: 0.6243\n",
      "Epoch 3/10\n",
      "196/196 [==============================] - 7478s 38s/step - loss: 0.0293 - accuracy: 0.9908 - val_loss: 0.7048 - val_accuracy: 0.8344\n",
      "Epoch 4/10\n",
      "196/196 [==============================] - 7726s 39s/step - loss: 0.0068 - accuracy: 0.9985 - val_loss: 0.5347 - val_accuracy: 0.8921\n",
      "Epoch 5/10\n",
      "196/196 [==============================] - 8272s 42s/step - loss: 0.0055 - accuracy: 0.9990 - val_loss: 0.5306 - val_accuracy: 0.9017\n",
      "Epoch 6/10\n",
      "196/196 [==============================] - 7329s 37s/step - loss: 0.0028 - accuracy: 0.9991 - val_loss: 0.5331 - val_accuracy: 0.9036\n",
      "Epoch 7/10\n",
      "196/196 [==============================] - 6670s 34s/step - loss: 0.0013 - accuracy: 0.9996 - val_loss: 0.4522 - val_accuracy: 0.9160\n",
      "Epoch 8/10\n",
      "196/196 [==============================] - 6007s 31s/step - loss: 0.0021 - accuracy: 0.9990 - val_loss: 0.4618 - val_accuracy: 0.9117\n",
      "Epoch 9/10\n",
      "196/196 [==============================] - 5438s 28s/step - loss: 0.0012 - accuracy: 0.9997 - val_loss: 0.4408 - val_accuracy: 0.9189\n",
      "Epoch 10/10\n",
      "196/196 [==============================] - 4891s 25s/step - loss: 1.4520e-04 - accuracy: 1.0000 - val_loss: 0.4410 - val_accuracy: 0.9232\n"
     ]
    }
   ],
   "source": [
    "#모델 학습\n",
    "start = time.time()\n",
    "hist = model.fit(train_dataset, steps_per_epoch=steps_per_epoch,\n",
    "         epochs=N_EPOCHS,\n",
    "         validation_data=val_dataset,\n",
    "         validation_steps=validation_step)\n",
    "end = time.time()"
   ]
  },
  {
   "cell_type": "code",
   "execution_count": 24,
   "metadata": {
    "executionInfo": {
     "elapsed": 9,
     "status": "aborted",
     "timestamp": 1622380590474,
     "user": {
      "displayName": "김은란/컴퓨터공학전공/학생",
      "photoUrl": "",
      "userId": "12771623514668636348"
     },
     "user_tz": -540
    },
    "id": "zHmCbRAhJ2aG"
   },
   "outputs": [],
   "source": [
    "#모델 테스트\n",
    "test_dir = os.path.join(camera_dir,'test')\n",
    "test0_dir = os.path.join(test_dir,'0')\n",
    "test1_dir = os.path.join(test_dir,'1')\n",
    "test2_dir = os.path.join(test_dir,'2')\n",
    "test_normal_img_files = os.listdir(test0_dir)\n",
    "test_fire_img_files = os.listdir(test1_dir)\n",
    "test_smoke_img_files = os.listdir(test2_dir)\n",
    "test_x = []\n",
    "test_y = []\n",
    "for file in test_normal_img_files:\n",
    "    img_path = os.path.join(test0_dir,file)\n",
    "    image = Image.open(img_path)\n",
    "    image = image.resize((IMG_SIZE, IMG_SIZE))\n",
    "    image = tf.cast(np.array(image), tf.float32)/255.\n",
    "    test_x.append(image)\n",
    "    test_y.append(0)\n",
    "    \n",
    "for file in test_fire_img_files:\n",
    "    img_path = os.path.join(test1_dir,file)\n",
    "    image = Image.open(img_path)\n",
    "    image = image.resize((IMG_SIZE, IMG_SIZE))\n",
    "    image = tf.cast(np.array(image), tf.float32)/255.\n",
    "    test_x.append(image)\n",
    "    test_y.append(1)\n",
    "    \n",
    "for file in test_smoke_img_files:\n",
    "    img_path = os.path.join(test2_dir,file)\n",
    "    image = Image.open(img_path)\n",
    "    image = image.resize((IMG_SIZE, IMG_SIZE))\n",
    "    image = tf.cast(np.array(image), tf.float32)/255.\n",
    "    test_x.append(image)\n",
    "    test_y.append(2)\n",
    "    \n",
    "test_x = np.array(test_x)\n",
    "test_y = np.array(test_y)\n",
    "    "
   ]
  },
  {
   "cell_type": "code",
   "execution_count": 25,
   "metadata": {
    "executionInfo": {
     "elapsed": 11,
     "status": "aborted",
     "timestamp": 1622380590476,
     "user": {
      "displayName": "김은란/컴퓨터공학전공/학생",
      "photoUrl": "",
      "userId": "12771623514668636348"
     },
     "user_tz": -540
    },
    "id": "qD8mJNmDJ2aH"
   },
   "outputs": [
    {
     "name": "stdout",
     "output_type": "stream",
     "text": [
      "(750, 224, 224, 3)\n"
     ]
    }
   ],
   "source": [
    "print(test_x.shape)"
   ]
  },
  {
   "cell_type": "code",
   "execution_count": 26,
   "metadata": {},
   "outputs": [],
   "source": [
    "filenamekey = int(time.time())"
   ]
  },
  {
   "cell_type": "code",
   "execution_count": 27,
   "metadata": {
    "executionInfo": {
     "elapsed": 12,
     "status": "aborted",
     "timestamp": 1622380590477,
     "user": {
      "displayName": "김은란/컴퓨터공학전공/학생",
      "photoUrl": "",
      "userId": "12771623514668636348"
     },
     "user_tz": -540
    },
    "id": "bFmIx4KWJ2aH",
    "scrolled": true
   },
   "outputs": [
    {
     "name": "stdout",
     "output_type": "stream",
     "text": [
      "INFO:tensorflow:Assets written to: ./model/Classification_Model1623235846\\assets\n"
     ]
    }
   ],
   "source": [
    "#모델 저장\n",
    "model.save('./model/Classification_Model{}'.format(filenamekey))\n",
    "model.save_weights('./model/Classification_Model_weights{}.h5'.format(filenamekey))"
   ]
  },
  {
   "cell_type": "code",
   "execution_count": 28,
   "metadata": {
    "executionInfo": {
     "elapsed": 11,
     "status": "aborted",
     "timestamp": 1622380590477,
     "user": {
      "displayName": "김은란/컴퓨터공학전공/학생",
      "photoUrl": "",
      "userId": "12771623514668636348"
     },
     "user_tz": -540
    },
    "id": "B6_k7rJsJ2aH"
   },
   "outputs": [
    {
     "name": "stdout",
     "output_type": "stream",
     "text": [
      "24/24 [==============================] - 263s 11s/step - loss: 0.6494 - accuracy: 0.9080\n",
      "## evaluation loss and_metrics ##\n",
      "[0.6493809223175049, 0.9079999923706055]\n"
     ]
    }
   ],
   "source": [
    "loss_and_metrics = model.evaluate(test_x, test_y, batch_size=N_BATCH)\n",
    "print('## evaluation loss and_metrics ##')\n",
    "print(loss_and_metrics)"
   ]
  },
  {
   "cell_type": "code",
   "execution_count": 35,
   "metadata": {
    "executionInfo": {
     "elapsed": 12,
     "status": "aborted",
     "timestamp": 1622380590478,
     "user": {
      "displayName": "김은란/컴퓨터공학전공/학생",
      "photoUrl": "",
      "userId": "12771623514668636348"
     },
     "user_tz": -540
    },
    "id": "yYJv5AQ3J2aH"
   },
   "outputs": [
    {
     "data": {
      "image/png": "[encoded data removed]",
      "text/plain": [
       "<Figure size 432x288 with 1 Axes>"
      ]
     },
     "metadata": {
      "needs_background": "light"
     },
     "output_type": "display_data"
    }
   ],
   "source": [
    "#fig, loss_ax = plt.subplots()\n",
    "#acc_ax = loss_ax.twinx()\n",
    "\n",
    "#loss_ax.plot(hist.history['loss'], 'y', label='train loss')\n",
    "#loss_ax.plot(hist.history['val_loss'], 'r', label='val loss')\n",
    "#loss_ax.set_xlabel('epoch')\n",
    "#loss_ax.set_ylabel('loss')\n",
    "#loss_ax.legend(loc='upper left')\n",
    "\n",
    "plt.plot(hist.history['accuracy'], 'b', label='train accuracy')\n",
    "plt.plot(hist.history['val_accuracy'], 'g', label='val accuracy')\n",
    "plt.ylabel('accuracy')\n",
    "plt.legend(loc='upper left')\n",
    "plt.text(N_EPOCHS-1,loss_and_metrics[1], 'ta : {}'.format(format(loss_and_metrics[1],\".2f\")), fontsize=11, bbox=dict(boxstyle='square', color='lightgray'),horizontalalignment='right')\n",
    "\n",
    "plt.savefig('./result/graph/figure{}_{}.png'.format(data.shape[0],filenamekey))\n"
   ]
  },
  {
   "cell_type": "code",
   "execution_count": 36,
   "metadata": {},
   "outputs": [],
   "source": [
    "with open('./result/modelsummary{}.txt'.format(filenamekey), 'w') as f:\n",
    "\n",
    "    model.summary(print_fn=lambda x: f.write(x + '\\n'))"
   ]
  },
  {
   "cell_type": "code",
   "execution_count": 37,
   "metadata": {},
   "outputs": [],
   "source": [
    "data = data.append({'key':filenamekey,\n",
    "                    'common train data len':N_N_TRAIN, \n",
    "                    \"fire train data len\":N_F_TRAIN,\n",
    "                    \"smoke train data len\":N_S_TRAIN, \n",
    "                    \"common validation data len\":N_N_VAL, \n",
    "                    \"fire validation data len\":N_F_VAL, \n",
    "                    \"smoke validation data len\":N_S_VAL,\n",
    "                    \"EPOCHS\":N_EPOCHS,\n",
    "                    \"learning_rate_schedule\":\"ExponentialDecay(initial_learning_rate={},decay_steps={},decay_rate=0.5,staircase=True)\".format(learning_rate,steps_per_epoch*2),\n",
    "                    \"batch size\":N_BATCH,\n",
    "                    \"loss_func\":'SparseCategoricalCrossentropy',\n",
    "                    \"optimizer\":\"RMSprop\",\n",
    "                    \"comment\": \"inception_resnet_v2\",\n",
    "                    \"test_accuracy\":loss_and_metrics[1],\n",
    "                    \"train time\":format(end-start, \".2f\")},ignore_index=True)"
   ]
  },
  {
   "cell_type": "code",
   "execution_count": 32,
   "metadata": {},
   "outputs": [
    {
     "data": {
      "text/plain": [
       "3"
      ]
     },
     "execution_count": 32,
     "metadata": {},
     "output_type": "execute_result"
    }
   ],
   "source": [
    "data.shape[0]"
   ]
  },
  {
   "cell_type": "code",
   "execution_count": 38,
   "metadata": {},
   "outputs": [
    {
     "data": {
      "text/html": [
       "<div>\n",
       "<style scoped>\n",
       "    .dataframe tbody tr th:only-of-type {\n",
       "        vertical-align: middle;\n",
       "    }\n",
       "\n",
       "    .dataframe tbody tr th {\n",
       "        vertical-align: top;\n",
       "    }\n",
       "\n",
       "    .dataframe thead th {\n",
       "        text-align: right;\n",
       "    }\n",
       "</style>\n",
       "<table border=\"1\" class=\"dataframe\">\n",
       "  <thead>\n",
       "    <tr style=\"text-align: right;\">\n",
       "      <th></th>\n",
       "      <th>Unnamed: 0</th>\n",
       "      <th>Unnamed: 0.1</th>\n",
       "      <th>common train data len</th>\n",
       "      <th>fire train data len</th>\n",
       "      <th>smoke train data len</th>\n",
       "      <th>common validation data len</th>\n",
       "      <th>fire validation data len</th>\n",
       "      <th>smoke validation data len</th>\n",
       "      <th>EPOCHS</th>\n",
       "      <th>learning_rate_schedule</th>\n",
       "      <th>batch size</th>\n",
       "      <th>loss_func</th>\n",
       "      <th>optimizer</th>\n",
       "      <th>comment</th>\n",
       "      <th>test_accuracy</th>\n",
       "      <th>train time</th>\n",
       "      <th>key</th>\n",
       "    </tr>\n",
       "  </thead>\n",
       "  <tbody>\n",
       "    <tr>\n",
       "      <th>0</th>\n",
       "      <td>0.0</td>\n",
       "      <td>0.0</td>\n",
       "      <td>3900</td>\n",
       "      <td>1608</td>\n",
       "      <td>768</td>\n",
       "      <td>1301</td>\n",
       "      <td>537</td>\n",
       "      <td>257</td>\n",
       "      <td>10</td>\n",
       "      <td>ExponentialDecay(initial_learning_rate=0.0001,...</td>\n",
       "      <td>32</td>\n",
       "      <td>SparseCategoricalCrossentropy</td>\n",
       "      <td>RMSprop</td>\n",
       "      <td>단순 CNN 네트워크로 구성된 모델</td>\n",
       "      <td>0.797333</td>\n",
       "      <td>NaN</td>\n",
       "      <td>NaN</td>\n",
       "    </tr>\n",
       "    <tr>\n",
       "      <th>1</th>\n",
       "      <td>1.0</td>\n",
       "      <td>NaN</td>\n",
       "      <td>3900</td>\n",
       "      <td>3216</td>\n",
       "      <td>3075</td>\n",
       "      <td>1301</td>\n",
       "      <td>1074</td>\n",
       "      <td>1025</td>\n",
       "      <td>10</td>\n",
       "      <td>ExponentialDecay(initial_learning_rate=0.0001,...</td>\n",
       "      <td>32</td>\n",
       "      <td>SparseCategoricalCrossentropy</td>\n",
       "      <td>RMSprop</td>\n",
       "      <td>데이터 증강</td>\n",
       "      <td>0.664000</td>\n",
       "      <td>NaN</td>\n",
       "      <td>NaN</td>\n",
       "    </tr>\n",
       "    <tr>\n",
       "      <th>2</th>\n",
       "      <td>NaN</td>\n",
       "      <td>NaN</td>\n",
       "      <td>3900</td>\n",
       "      <td>1608</td>\n",
       "      <td>768</td>\n",
       "      <td>1301</td>\n",
       "      <td>537</td>\n",
       "      <td>257</td>\n",
       "      <td>10</td>\n",
       "      <td>ExponentialDecay(initial_learning_rate=0.0001,...</td>\n",
       "      <td>32</td>\n",
       "      <td>SparseCategoricalCrossentropy</td>\n",
       "      <td>RMSprop</td>\n",
       "      <td>단순+데이터증강+배치정규화</td>\n",
       "      <td>0.908000</td>\n",
       "      <td>68382.69</td>\n",
       "      <td>NaN</td>\n",
       "    </tr>\n",
       "    <tr>\n",
       "      <th>3</th>\n",
       "      <td>NaN</td>\n",
       "      <td>NaN</td>\n",
       "      <td>3900</td>\n",
       "      <td>1608</td>\n",
       "      <td>768</td>\n",
       "      <td>1301</td>\n",
       "      <td>537</td>\n",
       "      <td>257</td>\n",
       "      <td>10</td>\n",
       "      <td>ExponentialDecay(initial_learning_rate=0.0001,...</td>\n",
       "      <td>32</td>\n",
       "      <td>SparseCategoricalCrossentropy</td>\n",
       "      <td>RMSprop</td>\n",
       "      <td>inception_resnet_v2</td>\n",
       "      <td>0.908000</td>\n",
       "      <td>68382.69</td>\n",
       "      <td>1.623236e+09</td>\n",
       "    </tr>\n",
       "  </tbody>\n",
       "</table>\n",
       "</div>"
      ],
      "text/plain": [
       "   Unnamed: 0  Unnamed: 0.1  common train data len  fire train data len  \\\n",
       "0         0.0           0.0                   3900                 1608   \n",
       "1         1.0           NaN                   3900                 3216   \n",
       "2         NaN           NaN                   3900                 1608   \n",
       "3         NaN           NaN                   3900                 1608   \n",
       "\n",
       "   smoke train data len  common validation data len  fire validation data len  \\\n",
       "0                   768                        1301                       537   \n",
       "1                  3075                        1301                      1074   \n",
       "2                   768                        1301                       537   \n",
       "3                   768                        1301                       537   \n",
       "\n",
       "   smoke validation data len  EPOCHS  \\\n",
       "0                        257      10   \n",
       "1                       1025      10   \n",
       "2                        257      10   \n",
       "3                        257      10   \n",
       "\n",
       "                              learning_rate_schedule  batch size  \\\n",
       "0  ExponentialDecay(initial_learning_rate=0.0001,...          32   \n",
       "1  ExponentialDecay(initial_learning_rate=0.0001,...          32   \n",
       "2  ExponentialDecay(initial_learning_rate=0.0001,...          32   \n",
       "3  ExponentialDecay(initial_learning_rate=0.0001,...          32   \n",
       "\n",
       "                       loss_func optimizer              comment  \\\n",
       "0  SparseCategoricalCrossentropy   RMSprop  단순 CNN 네트워크로 구성된 모델   \n",
       "1  SparseCategoricalCrossentropy   RMSprop               데이터 증강   \n",
       "2  SparseCategoricalCrossentropy   RMSprop       단순+데이터증강+배치정규화   \n",
       "3  SparseCategoricalCrossentropy   RMSprop  inception_resnet_v2   \n",
       "\n",
       "   test_accuracy train time           key  \n",
       "0       0.797333        NaN           NaN  \n",
       "1       0.664000        NaN           NaN  \n",
       "2       0.908000   68382.69           NaN  \n",
       "3       0.908000   68382.69  1.623236e+09  "
      ]
     },
     "execution_count": 38,
     "metadata": {},
     "output_type": "execute_result"
    }
   ],
   "source": [
    "data"
   ]
  },
  {
   "cell_type": "code",
   "execution_count": 40,
   "metadata": {},
   "outputs": [],
   "source": [
    "data.to_csv('./result/HyperParameter.csv',encoding='euc-kr')"
   ]
  },
  {
   "cell_type": "code",
   "execution_count": null,
   "metadata": {},
   "outputs": [],
   "source": []
  }
 ],
 "metadata": {
  "colab": {
   "name": "Fire Classification.ipynb",
   "provenance": [],
   "toc_visible": true
  },
  "kernelspec": {
   "display_name": "Python 3",
   "language": "python",
   "name": "python3"
  },
  "language_info": {
   "codemirror_mode": {
    "name": "ipython",
    "version": 3
   },
   "file_extension": ".py",
   "mimetype": "text/x-python",
   "name": "python",
   "nbconvert_exporter": "python",
   "pygments_lexer": "ipython3",
   "version": "3.8.5"
  }
 },
 "nbformat": 4,
 "nbformat_minor": 1
}
