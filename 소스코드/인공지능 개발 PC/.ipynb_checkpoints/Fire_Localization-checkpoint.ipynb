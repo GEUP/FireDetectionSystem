{
 "cells": [
  {
   "cell_type": "code",
   "execution_count": 1,
   "metadata": {
    "executionInfo": {
     "elapsed": 2529,
     "status": "ok",
     "timestamp": 1623224589990,
     "user": {
      "displayName": "김은란/컴퓨터공학전공/학생",
      "photoUrl": "",
      "userId": "12771623514668636348"
     },
     "user_tz": -540
    },
    "id": "Ssy58OU8d6Sk"
   },
   "outputs": [],
   "source": [
    "import os\n",
    "\n",
    "import numpy as np\n",
    "from PIL import Image\n",
    "import random\n",
    "import matplotlib.pyplot as plt\n",
    "from matplotlib.patches import Rectangle\n",
    "import xml.etree.ElementTree as et\n",
    "\n",
    "import tensorflow as tf\n",
    "from tensorflow import keras\n",
    "import re\n",
    "import shutil\n",
    "\n",
    "from tqdm.notebook import tqdm\n",
    "from pandas import DataFrame\n",
    "import pandas as pd\n",
    "import time\n"
   ]
  },
  {
   "cell_type": "markdown",
   "metadata": {
    "id": "a0wURLO4d6Su"
   },
   "source": [
    "## 데이터 준비"
   ]
  },
  {
   "cell_type": "code",
   "execution_count": null,
   "metadata": {
    "executionInfo": {
     "elapsed": 447,
     "status": "ok",
     "timestamp": 1623224590214,
     "user": {
      "displayName": "김은란/컴퓨터공학전공/학생",
      "photoUrl": "",
      "userId": "12771623514668636348"
     },
     "user_tz": -540
    },
    "id": "-TyqHl2oeZ_I"
   },
   "outputs": [],
   "source": [
    "IMG_SIZE = 224"
   ]
  },
  {
   "cell_type": "code",
   "execution_count": null,
   "metadata": {
    "executionInfo": {
     "elapsed": 496,
     "status": "ok",
     "timestamp": 1623224590264,
     "user": {
      "displayName": "김은란/컴퓨터공학전공/학생",
      "photoUrl": "",
      "userId": "12771623514668636348"
     },
     "user_tz": -540
    },
    "id": "NM_ahIjlefaq"
   },
   "outputs": [],
   "source": [
    "cur_dir = os.getcwd()"
   ]
  },
  {
   "cell_type": "code",
   "execution_count": null,
   "metadata": {
    "colab": {
     "base_uri": "https://localhost:8080/"
    },
    "executionInfo": {
     "elapsed": 501,
     "status": "ok",
     "timestamp": 1623224590270,
     "user": {
      "displayName": "김은란/컴퓨터공학전공/학생",
      "photoUrl": "",
      "userId": "12771623514668636348"
     },
     "user_tz": -540
    },
    "id": "SzbePHNCejaL",
    "outputId": "a9e8b6ee-5154-4c88-8d70-9b856314100d"
   },
   "outputs": [],
   "source": [
    "'''# mount google drive \n",
    "from google.colab import drive\n",
    "\n",
    "drive.mount('/content/gdrive/')\n",
    "cur_dir = os.path.join(cur_dir,\"/content/gdrive/MyDrive/fire detection\")'''"
   ]
  },
  {
   "cell_type": "code",
   "execution_count": null,
   "metadata": {
    "executionInfo": {
     "elapsed": 475,
     "status": "ok",
     "timestamp": 1623224590276,
     "user": {
      "displayName": "김은란/컴퓨터공학전공/학생",
      "photoUrl": "",
      "userId": "12771623514668636348"
     },
     "user_tz": -540
    },
    "id": "9TcyA71_d6Sx"
   },
   "outputs": [],
   "source": [
    "data_dir = os.path.join(cur_dir, 'data/crawled_images/annotated')\n",
    "train_dir = os.path.join(data_dir, 'train')\n",
    "train_img_files = sorted([imgname for imgname in os.listdir(train_dir) if os.path.splitext(imgname)[-1] == '.jpg'])\n",
    "train_ano_files = sorted([anoname for anoname in os.listdir(train_dir) if os.path.splitext(anoname)[-1] == '.xml'])\n",
    "dataset_files = list(zip(train_img_files,train_ano_files))\n",
    "random.shuffle(dataset_files)\n",
    "#데이터 수 계산\n",
    "N_TRAIN = 3*(len(train_img_files)//4)\n",
    "N_VAL = len(train_img_files) - N_TRAIN\n",
    "\n",
    "train_files = dataset_files[:N_TRAIN]\n",
    "val_files = dataset_files[N_TRAIN:]"
   ]
  },
  {
   "cell_type": "code",
   "execution_count": null,
   "metadata": {
    "colab": {
     "base_uri": "https://localhost:8080/",
     "height": 221
    },
    "executionInfo": {
     "elapsed": 517,
     "status": "ok",
     "timestamp": 1623224590327,
     "user": {
      "displayName": "김은란/컴퓨터공학전공/학생",
      "photoUrl": "",
      "userId": "12771623514668636348"
     },
     "user_tz": -540
    },
    "id": "OX9OkqfGd6S2",
    "outputId": "fb0467a9-4e88-4d4c-abb0-aa247246ebd4"
   },
   "outputs": [],
   "source": [
    "#데이터를 잘 읽었는지 테스트\n",
    "for i in range(10):\n",
    "    rnd_idx = random.randint(1, len(train_img_files))\n",
    "    fname = train_img_files[rnd_idx]\n",
    "    fpath = os.path.join(train_dir, fname)\n",
    "    image = Image.open(fpath)\n",
    "    image = np.array(image)\n",
    "    \n",
    "    bbox_name = os.path.splitext(fname)[0]+'.xml'\n",
    "    bbox_path = os.path.join(train_dir, bbox_name)\n",
    "    tree = et.parse(bbox_path)\n",
    "    \n",
    "    \n",
    "    width = float(tree.find('./size/width').text)\n",
    "    height = float(tree.find('./size/height').text)\n",
    "    \n",
    "    xmin = float(tree.find('./object/bndbox/xmin').text)\n",
    "    ymin = float(tree.find('./object/bndbox/ymin').text)\n",
    "    xmax = float(tree.find('./object/bndbox/xmax').text)\n",
    "    ymax = float(tree.find('./object/bndbox/ymax').text)\n",
    "    \n",
    "    rect_x = xmin\n",
    "    rect_y = ymin\n",
    "    rect_w = xmax-xmin\n",
    "    rect_h = ymax-ymin\n",
    "    \n",
    "    rect = Rectangle((rect_x, rect_y), rect_w, rect_h, fill=False, color='red')\n",
    "    plt.subplot(10,1,i+1)\n",
    "    plt.axes().add_patch(rect)\n",
    "    plt.imshow(image)\n",
    "    plt.show()\n"
   ]
  },
  {
   "cell_type": "markdown",
   "metadata": {
    "id": "Q3JZ_D2wd6TF"
   },
   "source": [
    "## TFRecord"
   ]
  },
  {
   "cell_type": "code",
   "execution_count": null,
   "metadata": {
    "executionInfo": {
     "elapsed": 524,
     "status": "ok",
     "timestamp": 1623224590341,
     "user": {
      "displayName": "김은란/컴퓨터공학전공/학생",
      "photoUrl": "",
      "userId": "12771623514668636348"
     },
     "user_tz": -540
    },
    "id": "AuAyafZwuTUj"
   },
   "outputs": [],
   "source": [
    "tfr_dir = os.path.join(data_dir,'tfrecord_afterX6')\n",
    "os.makedirs(tfr_dir, exist_ok = True)\n",
    "\n",
    "tfr_train_dir = os.path.join(tfr_dir,'loc_train.tfr')\n",
    "tfr_val_dir =os.path.join(tfr_dir,'loc_val.tfr')"
   ]
  },
  {
   "cell_type": "code",
   "execution_count": null,
   "metadata": {
    "colab": {
     "base_uri": "https://localhost:8080/",
     "height": 119
    },
    "executionInfo": {
     "elapsed": 491,
     "status": "ok",
     "timestamp": 1623224590352,
     "user": {
      "displayName": "김은란/컴퓨터공학전공/학생",
      "photoUrl": "",
      "userId": "12771623514668636348"
     },
     "user_tz": -540
    },
    "id": "avmk64ygd6TI",
    "outputId": "47094c63-ed76-4de4-8437-83c1c394d6cc"
   },
   "outputs": [],
   "source": [
    "writer_train = tf.io.TFRecordWriter(tfr_train_dir)\n",
    "writer_val = tf.io.TFRecordWriter(tfr_val_dir)\n",
    "\n",
    "def _bytes_feature(value):\n",
    "    if isinstance(value, type(tf.constant(0))):\n",
    "        value = value.numpy()\n",
    "    return tf.train.Feature(bytes_list=tf.train.BytesList(value=[value]))\n",
    "\n",
    "def _float_feature(value):\n",
    "    return tf.train.Feature(float_list=tf.train.FloatList(value=[value]))\n",
    "\n",
    "def _int64_feature(value):\n",
    "    return tf.train.Feature(int64_list=tf.train.Int64List(value=[value]))\n"
   ]
  },
  {
   "cell_type": "code",
   "execution_count": null,
   "metadata": {
    "colab": {
     "base_uri": "https://localhost:8080/",
     "height": 221
    },
    "executionInfo": {
     "elapsed": 455,
     "status": "ok",
     "timestamp": 1623224590365,
     "user": {
      "displayName": "김은란/컴퓨터공학전공/학생",
      "photoUrl": "",
      "userId": "12771623514668636348"
     },
     "user_tz": -540
    },
    "id": "hJYJJwAZiZoL",
    "outputId": "c70e9c92-8e5c-4434-8ef8-4872eb726dc2"
   },
   "outputs": [],
   "source": [
    "for img_file, ano_file in tqdm(train_files):\n",
    "    ano_path = os.path.join(train_dir,ano_file)\n",
    "    tree = et.parse(ano_path)\n",
    "    width = float(tree.find('./size/width').text)\n",
    "    height = float(tree.find('./size/height').text)\n",
    "    xmin = float(tree.find('./object/bndbox/xmin').text)\n",
    "    ymin = float(tree.find('./object/bndbox/ymin').text)\n",
    "    xmax = float(tree.find('./object/bndbox/xmax').text)\n",
    "    ymax = float(tree.find('./object/bndbox/ymax').text)\n",
    "    xc = (xmin+xmax)/2\n",
    "    yc = (ymin+ymax)/2\n",
    "    x = xc / width\n",
    "    y = yc / height\n",
    "    w = (xmax-xmin)/width\n",
    "    h = (ymax-ymin)/height\n",
    "    \n",
    "    img_path = os.path.join(train_dir, img_file)\n",
    "    image = Image.open(img_path)\n",
    "    image = image.resize((IMG_SIZE, IMG_SIZE))\n",
    "    bimage = image.tobytes()\n",
    "    \n",
    "    cls_num = 1\n",
    "    \n",
    "    example = tf.train.Example(features=tf.train.Features(feature={\n",
    "        'image':_bytes_feature(bimage),\n",
    "        'cls_num':_int64_feature(cls_num),\n",
    "        'x':_float_feature(x),\n",
    "        'y':_float_feature(y),\n",
    "        'w':_float_feature(w),\n",
    "        'h':_float_feature(h)\n",
    "    }))\n",
    "    \n",
    "    writer_train.write(example.SerializeToString())\n",
    "\n",
    "writer_train.close()"
   ]
  },
  {
   "cell_type": "code",
   "execution_count": null,
   "metadata": {
    "colab": {
     "base_uri": "https://localhost:8080/",
     "height": 221
    },
    "executionInfo": {
     "elapsed": 436,
     "status": "ok",
     "timestamp": 1623224590372,
     "user": {
      "displayName": "김은란/컴퓨터공학전공/학생",
      "photoUrl": "",
      "userId": "12771623514668636348"
     },
     "user_tz": -540
    },
    "id": "PMWVQYp1iif6",
    "outputId": "b7ef7529-e54f-48ae-8d85-0c00147e5ea2"
   },
   "outputs": [],
   "source": [
    "for img_file, ano_file in tqdm(val_files):\n",
    "    ano_path = os.path.join(train_dir,ano_file)\n",
    "    tree = et.parse(ano_path)\n",
    "    width = float(tree.find('./size/width').text)\n",
    "    height = float(tree.find('./size/height').text)\n",
    "    xmin = float(tree.find('./object/bndbox/xmin').text)\n",
    "    ymin = float(tree.find('./object/bndbox/ymin').text)\n",
    "    xmax = float(tree.find('./object/bndbox/xmax').text)\n",
    "    ymax = float(tree.find('./object/bndbox/ymax').text)\n",
    "    xc = (xmin+xmax)/2\n",
    "    yc = (ymin+ymax)/2\n",
    "    x = xc / width\n",
    "    y = yc / height\n",
    "    w = (xmax-xmin)/width\n",
    "    h = (ymax-ymin)/height\n",
    "    \n",
    "    img_path = os.path.join(train_dir, img_file)\n",
    "    image = Image.open(img_path)\n",
    "    image = image.resize((IMG_SIZE, IMG_SIZE))\n",
    "    bimage = image.tobytes()\n",
    "    \n",
    "    cls_num = 1\n",
    "    \n",
    "    example = tf.train.Example(features=tf.train.Features(feature={\n",
    "        'image':_bytes_feature(bimage),\n",
    "        'cls_num':_int64_feature(cls_num),\n",
    "        'x':_float_feature(x),\n",
    "        'y':_float_feature(y),\n",
    "        'w':_float_feature(w),\n",
    "        'h':_float_feature(h)\n",
    "    }))\n",
    "    \n",
    "    writer_val.write(example.SerializeToString())\n",
    "\n",
    "writer_val.close()"
   ]
  },
  {
   "cell_type": "code",
   "execution_count": null,
   "metadata": {
    "executionInfo": {
     "elapsed": 434,
     "status": "ok",
     "timestamp": 1623224590376,
     "user": {
      "displayName": "김은란/컴퓨터공학전공/학생",
      "photoUrl": "",
      "userId": "12771623514668636348"
     },
     "user_tz": -540
    },
    "id": "qjTDnLE4d6Tc"
   },
   "outputs": [],
   "source": [
    "N_EPOCHS = 30\n",
    "N_BATCH = 16\n",
    "IMG_SIZE = 224\n",
    "learning_rate = 0.001\n",
    "steps_per_epoch = N_TRAIN/N_BATCH\n",
    "validation_step = int(np.ceil(N_VAL / N_BATCH))"
   ]
  },
  {
   "cell_type": "code",
   "execution_count": null,
   "metadata": {
    "executionInfo": {
     "elapsed": 1213,
     "status": "ok",
     "timestamp": 1623224591163,
     "user": {
      "displayName": "김은란/컴퓨터공학전공/학생",
      "photoUrl": "",
      "userId": "12771623514668636348"
     },
     "user_tz": -540
    },
    "id": "tGSnUYafd6Tj"
   },
   "outputs": [],
   "source": [
    "def _parse_function(tfrecord_serialized):\n",
    "    features={\n",
    "        'image': tf.io.FixedLenFeature([],tf.string),\n",
    "        'cls_num': tf.io.FixedLenFeature([],tf.int64),\n",
    "        'x':tf.io.FixedLenFeature([],tf.float32),\n",
    "        'y':tf.io.FixedLenFeature([],tf.float32),\n",
    "        'w':tf.io.FixedLenFeature([],tf.float32),\n",
    "        'h':tf.io.FixedLenFeature([],tf.float32)\n",
    "    }\n",
    "    \n",
    "    parsed_features = tf.io.parse_single_example(tfrecord_serialized, features)\n",
    "    \n",
    "    image = tf.io.decode_raw(parsed_features['image'], tf.uint8)\n",
    "    image = tf.reshape(image,[IMG_SIZE, IMG_SIZE, 3])\n",
    "    image = tf.cast(image, tf.float32)/255.\n",
    "    \n",
    "    cls_label = tf.cast(parsed_features['cls_num'], tf.int64)\n",
    "    \n",
    "    x = tf.cast(parsed_features['x'], tf.float32)\n",
    "    y = tf.cast(parsed_features['y'], tf.float32)\n",
    "    w = tf.cast(parsed_features['w'], tf.float32)\n",
    "    h = tf.cast(parsed_features['h'], tf.float32)\n",
    "    gt = tf.stack([x,y,w,h],-1)\n",
    "    \n",
    "    return image, gt\n",
    "\n",
    "train_dataset = tf.data.TFRecordDataset(tfr_train_dir)\n",
    "train_dataset = train_dataset.map(_parse_function, num_parallel_calls=tf.data.experimental.AUTOTUNE)\n",
    "train_dataset = train_dataset.shuffle(buffer_size = N_TRAIN).prefetch(tf.data.experimental.AUTOTUNE).batch(N_BATCH).repeat()\n",
    "\n",
    "val_dataset = tf.data.TFRecordDataset(tfr_val_dir)\n",
    "val_dataset = val_dataset.map(_parse_function, num_parallel_calls=tf.data.experimental.AUTOTUNE)\n",
    "val_dataset = val_dataset.batch(N_BATCH).repeat()"
   ]
  },
  {
   "cell_type": "code",
   "execution_count": null,
   "metadata": {
    "colab": {
     "base_uri": "https://localhost:8080/",
     "height": 1000
    },
    "executionInfo": {
     "elapsed": 1759,
     "status": "ok",
     "timestamp": 1623224592859,
     "user": {
      "displayName": "김은란/컴퓨터공학전공/학생",
      "photoUrl": "",
      "userId": "12771623514668636348"
     },
     "user_tz": -540
    },
    "id": "-LcZKTBId6Tv",
    "outputId": "44a4caf7-9046-414f-ecc1-852400a36c40"
   },
   "outputs": [],
   "source": [
    "'''#Tfrecord Test\n",
    "print(val_dataset.take(5))\n",
    "for image, gt in train_dataset.take(5):\n",
    "    x = gt[:,0]\n",
    "    y = gt[:,1]\n",
    "    w = gt[:,2]\n",
    "    h = gt[:,3]\n",
    "    xmin = x[0].numpy() - w[0].numpy()/2.\n",
    "    ymin = y[0].numpy() - h[0].numpy()/2.\n",
    "    rect_x = int(xmin * IMG_SIZE)\n",
    "    rect_y = int(ymin * IMG_SIZE)\n",
    "    rect_w = int(w[0].numpy() * IMG_SIZE)\n",
    "    rect_h = int(h[0].numpy() * IMG_SIZE)\n",
    "    \n",
    "    rect = Rectangle((rect_x, rect_y),rect_w, rect_h, fill=False, color='red')\n",
    "    plt.axes().add_patch(rect)\n",
    "    plt.imshow(image[0])\n",
    "    plt.show()'''"
   ]
  },
  {
   "cell_type": "markdown",
   "metadata": {
    "id": "rcDlflg4d6Tx"
   },
   "source": [
    "## Model"
   ]
  },
  {
   "cell_type": "code",
   "execution_count": null,
   "metadata": {
    "executionInfo": {
     "elapsed": 428,
     "status": "ok",
     "timestamp": 1623224592865,
     "user": {
      "displayName": "김은란/컴퓨터공학전공/학생",
      "photoUrl": "",
      "userId": "12771623514668636348"
     },
     "user_tz": -540
    },
    "id": "RxWnb1-gd6Tx"
   },
   "outputs": [],
   "source": [
    "def create_model():\n",
    "    model = tf.keras.Sequential()\n",
    "    model.add(keras.layers.Conv2D(filters=32, kernel_size=3, activation='relu',padding='SAME', input_shape=(IMG_SIZE,IMG_SIZE,3)))\n",
    "    model.add(keras.layers.MaxPool2D(padding='SAME'))\n",
    "    model.add(keras.layers.Conv2D(filters=64, kernel_size=3, activation='relu',padding='SAME'))\n",
    "    model.add(keras.layers.MaxPool2D(padding='SAME'))\n",
    "    model.add(keras.layers.Conv2D(filters=128, kernel_size=3, activation='relu',padding='SAME'))\n",
    "    model.add(keras.layers.MaxPool2D(padding='SAME'))\n",
    "    model.add(keras.layers.Conv2D(filters=256, kernel_size=3, activation='relu',padding='SAME'))\n",
    "    model.add(keras.layers.MaxPool2D(padding='SAME'))\n",
    "    model.add(keras.layers.Conv2D(filters=256, kernel_size=3, activation='relu',padding='SAME'))\n",
    "    model.add(keras.layers.MaxPool2D(padding='SAME'))\n",
    "    model.add(keras.layers.Flatten())\n",
    "    model.add(keras.layers.Dense(1024))\n",
    "    model.add(keras.layers.BatchNormalization())\n",
    "    model.add(keras.layers.Activation('relu'))\n",
    "    model.add(keras.layers.Dropout(0.2))\n",
    "    model.add(keras.layers.Dense(4,activation='sigmoid'))\n",
    "    return model"
   ]
  },
  {
   "cell_type": "code",
   "execution_count": null,
   "metadata": {
    "executionInfo": {
     "elapsed": 423,
     "status": "ok",
     "timestamp": 1623224592868,
     "user": {
      "displayName": "김은란/컴퓨터공학전공/학생",
      "photoUrl": "",
      "userId": "12771623514668636348"
     },
     "user_tz": -540
    },
    "id": "DAbfySMtd6Ty"
   },
   "outputs": [],
   "source": [
    "def loss_fn(y_true,y_pred):\n",
    "    return keras.losses.MeanSquaredError()(y_true,y_pred)"
   ]
  },
  {
   "cell_type": "code",
   "execution_count": null,
   "metadata": {
    "colab": {
     "base_uri": "https://localhost:8080/"
    },
    "executionInfo": {
     "elapsed": 424,
     "status": "ok",
     "timestamp": 1623224592874,
     "user": {
      "displayName": "김은란/컴퓨터공학전공/학생",
      "photoUrl": "",
      "userId": "12771623514668636348"
     },
     "user_tz": -540
    },
    "id": "x3g0NGvcd6T0",
    "outputId": "db31e109-a0de-4b33-b845-7b8957c3f2e9"
   },
   "outputs": [],
   "source": [
    "model = create_model()\n",
    "model.summary()"
   ]
  },
  {
   "cell_type": "markdown",
   "metadata": {
    "id": "j7SMj1tXd6T1"
   },
   "source": [
    "## 학습"
   ]
  },
  {
   "cell_type": "code",
   "execution_count": null,
   "metadata": {
    "executionInfo": {
     "elapsed": 110,
     "status": "ok",
     "timestamp": 1623224592877,
     "user": {
      "displayName": "김은란/컴퓨터공학전공/학생",
      "photoUrl": "",
      "userId": "12771623514668636348"
     },
     "user_tz": -540
    },
    "id": "WB5UROJJd6T3"
   },
   "outputs": [],
   "source": [
    "lr_schedule = keras.optimizers.schedules.ExponentialDecay(initial_learning_rate=learning_rate,\n",
    "                                                         decay_steps=steps_per_epoch*2,\n",
    "                                                         decay_rate=0.5,\n",
    "                                                         staircase=True)\n",
    "model.compile(keras.optimizers.RMSprop(lr_schedule),loss=loss_fn, metrics = ['accuracy'])"
   ]
  },
  {
   "cell_type": "code",
   "execution_count": null,
   "metadata": {
    "colab": {
     "base_uri": "https://localhost:8080/"
    },
    "executionInfo": {
     "elapsed": 414264,
     "status": "ok",
     "timestamp": 1623225007036,
     "user": {
      "displayName": "김은란/컴퓨터공학전공/학생",
      "photoUrl": "",
      "userId": "12771623514668636348"
     },
     "user_tz": -540
    },
    "id": "ls0QFZUzd6UC",
    "outputId": "57c1c53c-cdac-411c-db42-c79c974f91a9",
    "scrolled": true
   },
   "outputs": [],
   "source": [
    "start = time.time()\n",
    "hist = model.fit(train_dataset, steps_per_epoch=steps_per_epoch,\n",
    "         epochs=N_EPOCHS,\n",
    "         validation_data=val_dataset,\n",
    "         validation_steps=validation_step)\n",
    "end = time.time()"
   ]
  },
  {
   "cell_type": "markdown",
   "metadata": {
    "id": "B-IUN2YWf9vg"
   },
   "source": [
    "## 평가"
   ]
  },
  {
   "cell_type": "markdown",
   "metadata": {},
   "source": [
    "#### 테스트 데이터셋 생성"
   ]
  },
  {
   "cell_type": "code",
   "execution_count": null,
   "metadata": {
    "colab": {
     "base_uri": "https://localhost:8080/",
     "height": 66,
     "referenced_widgets": [
      "bf7773e07206415aba54567d44d72cd3",
      "0a8d1dddabb445adb80dcffc91bfe261",
      "9bfbbcf696b649578e95726d78aa3818",
      "796cce7c84254996b8d2d05f7b9984e4",
      "679ab9d2639e45b18a48d00c2c7e271e",
      "90f7adfdd23a4b1f87348260cc4b2579",
      "71ac9213895f46fea3601beba3e653b5",
      "5c8e1daf92204a1196790130c5ef23ea"
     ]
    },
    "executionInfo": {
     "elapsed": 1402,
     "status": "ok",
     "timestamp": 1623225008378,
     "user": {
      "displayName": "김은란/컴퓨터공학전공/학생",
      "photoUrl": "",
      "userId": "12771623514668636348"
     },
     "user_tz": -540
    },
    "id": "V1yIxdNVf8g5",
    "outputId": "ff7f0ac0-d5d5-4bad-cc0e-a2c956120684"
   },
   "outputs": [],
   "source": [
    "test_dir = os.path.join(data_dir, 'test')\n",
    "test_img_files = sorted([imgname for imgname in os.listdir(test_dir) if os.path.splitext(imgname)[-1] == '.jpg'])\n",
    "test_ano_files = sorted([anoname for anoname in os.listdir(test_dir) if os.path.splitext(anoname)[-1] == '.xml'])\n",
    "test_dataset_files = list(zip(test_img_files,test_ano_files))\n",
    "\n",
    "test_x=[]\n",
    "test_y=[]\n",
    "for img_file, ano_file in tqdm(test_dataset_files):\n",
    "    ano_path = os.path.join(test_dir,ano_file)\n",
    "    tree = et.parse(ano_path)\n",
    "    width = float(tree.find('./size/width').text)\n",
    "    height = float(tree.find('./size/height').text)\n",
    "    xmin = float(tree.find('./object/bndbox/xmin').text)\n",
    "    ymin = float(tree.find('./object/bndbox/ymin').text)\n",
    "    xmax = float(tree.find('./object/bndbox/xmax').text)\n",
    "    ymax = float(tree.find('./object/bndbox/ymax').text)\n",
    "    xc = (xmin+xmax)/2\n",
    "    yc = (ymin+ymax)/2\n",
    "    x = xc / width\n",
    "    y = yc / height\n",
    "    w = (xmax-xmin)/width\n",
    "    h = (ymax-ymin)/height\n",
    "    \n",
    "    img_path = os.path.join(test_dir, img_file)\n",
    "    image = Image.open(img_path)\n",
    "    image = image.resize((IMG_SIZE, IMG_SIZE))\n",
    "    image = tf.cast(np.array(image), tf.float32)/255.\n",
    "    test_x.append(image)\n",
    "    test_y.append(np.array([x,y,w,h]))\n",
    "\n",
    "\n",
    "test_x = np.array(test_x)\n",
    "test_y = np.array(test_y)\n"
   ]
  },
  {
   "cell_type": "code",
   "execution_count": null,
   "metadata": {
    "executionInfo": {
     "elapsed": 20,
     "status": "ok",
     "timestamp": 1623225008386,
     "user": {
      "displayName": "김은란/컴퓨터공학전공/학생",
      "photoUrl": "",
      "userId": "12771623514668636348"
     },
     "user_tz": -540
    },
    "id": "R0P_SZOerKpM"
   },
   "outputs": [],
   "source": [
    "#학습된 모델들을 구분하기 위한 키\n",
    "filenamekey = int(time.time())"
   ]
  },
  {
   "cell_type": "code",
   "execution_count": null,
   "metadata": {
    "colab": {
     "base_uri": "https://localhost:8080/"
    },
    "executionInfo": {
     "elapsed": 3603,
     "status": "ok",
     "timestamp": 1623225011971,
     "user": {
      "displayName": "김은란/컴퓨터공학전공/학생",
      "photoUrl": "",
      "userId": "12771623514668636348"
     },
     "user_tz": -540
    },
    "id": "eekFjQxWrKXf",
    "outputId": "8ff6aae3-0257-4ca2-99a2-3541214711bc"
   },
   "outputs": [],
   "source": [
    "#모델 저장\n",
    "'''model.save('/content/gdrive/MyDrive/fire detection/model/Localization_Model{}'.format(filenamekey))\n",
    "model.save_weights('/content/gdrive/MyDrive/fire detection/model/Localization_Model_weights{}.h5'.format(filenamekey))'''\n",
    "model.save('./model/Localization_Model{}'.format(filenamekey))\n",
    "model.save_weights('./model/Localization_Model_weights{}.h5'.format(filenamekey))"
   ]
  },
  {
   "cell_type": "code",
   "execution_count": null,
   "metadata": {
    "colab": {
     "base_uri": "https://localhost:8080/"
    },
    "executionInfo": {
     "elapsed": 5341,
     "status": "ok",
     "timestamp": 1623225017307,
     "user": {
      "displayName": "김은란/컴퓨터공학전공/학생",
      "photoUrl": "",
      "userId": "12771623514668636348"
     },
     "user_tz": -540
    },
    "id": "WuuePwN2rfGJ",
    "outputId": "acb1fca0-14e5-4d8a-eabe-15bd179c8d58"
   },
   "outputs": [],
   "source": [
    "#모델 평가\n",
    "loss_and_metrics = model.evaluate(test_x, test_y, batch_size=N_BATCH)\n",
    "print('## evaluation loss and_metrics ##')\n",
    "print(loss_and_metrics)"
   ]
  },
  {
   "cell_type": "code",
   "execution_count": null,
   "metadata": {
    "colab": {
     "base_uri": "https://localhost:8080/",
     "height": 265
    },
    "executionInfo": {
     "elapsed": 135,
     "status": "ok",
     "timestamp": 1623225017324,
     "user": {
      "displayName": "김은란/컴퓨터공학전공/학생",
      "photoUrl": "",
      "userId": "12771623514668636348"
     },
     "user_tz": -540
    },
    "id": "JguRP4JFr3B7",
    "outputId": "2e0adad9-fdaf-4169-e0aa-30c465f20425"
   },
   "outputs": [],
   "source": [
    "#학습 과정 시각화\n",
    "plt.plot(hist.history['accuracy'], 'b', label='train accuracy')\n",
    "plt.plot(hist.history['val_accuracy'], 'g', label='val accuracy')\n",
    "plt.ylabel('accuracy')\n",
    "plt.legend(loc='upper left')\n",
    "plt.text(N_EPOCHS-2,loss_and_metrics[1], 'ta : {}'.format(format(loss_and_metrics[1],\".2f\")), fontsize=11, bbox=dict(boxstyle='square', color='lightgray'))\n",
    "#plt.savefig('/content/gdrive/MyDrive/fire detection/result/graph/figure_L_{}.png'.format(filenamekey))\n",
    "plt.savefig('./result/graph/figure_L_{}.png'.format(filenamekey))\n"
   ]
  },
  {
   "cell_type": "code",
   "execution_count": null,
   "metadata": {
    "executionInfo": {
     "elapsed": 127,
     "status": "ok",
     "timestamp": 1623225017327,
     "user": {
      "displayName": "김은란/컴퓨터공학전공/학생",
      "photoUrl": "",
      "userId": "12771623514668636348"
     },
     "user_tz": -540
    },
    "id": "zLT6RtPMr_ic"
   },
   "outputs": [],
   "source": [
    "'''with open('/content/gdrive/MyDrive/fire detection/result/modelsummary_L_{}.txt'.format(filenamekey), 'w') as f:\n",
    "\n",
    "    model.summary(print_fn=lambda x: f.write(x + '\\n'))'''\n",
    "#모델 요약 저장\n",
    "with open('./result/modelsummary_L_{}.txt'.format(filenamekey), 'w') as f:\n",
    "\n",
    "    model.summary(print_fn=lambda x: f.write(x + '\\n'))"
   ]
  },
  {
   "cell_type": "markdown",
   "metadata": {},
   "source": [
    "## IOU(Intersection Over Union) 계산"
   ]
  },
  {
   "cell_type": "code",
   "execution_count": null,
   "metadata": {},
   "outputs": [],
   "source": [
    "test_dataset = list(zip(test_x,test_y))\n",
    "N_TEST=len(test_dataset)\n",
    "avg_iou = 0\n",
    "num_imgs = N_TEST\n",
    "for i, (test_data, test_gt) in enumerate(test_dataset):\n",
    "    flag = (i == N_TEST-1)\n",
    "    x = test_gt[0]\n",
    "    y = test_gt[1]\n",
    "    w = test_gt[2]\n",
    "    h = test_gt[3]\n",
    "    test_data = test_data[tf.newaxis,...]\n",
    "    prediction = model.predict(test_data)\n",
    "    pred_x = prediction[0][0]\n",
    "    pred_y = prediction[0][1]\n",
    "    pred_w = prediction[0][2]\n",
    "    pred_h = prediction[0][3]\n",
    "    \n",
    "    \n",
    "    xmin = int((x - w/2.)*IMG_SIZE)\n",
    "    ymin = int((y - h/2.)*IMG_SIZE)\n",
    "    xmax = int((x + w/2.)*IMG_SIZE)\n",
    "    ymax = int((y + h/2.)*IMG_SIZE)\n",
    "    \n",
    "    pred_xmin = int((pred_x - pred_w/2.)*IMG_SIZE)\n",
    "    pred_ymin = int((pred_y - pred_h/2.)*IMG_SIZE)\n",
    "    pred_xmax = int((pred_x + pred_w/2.)*IMG_SIZE)\n",
    "    pred_ymax = int((pred_y + pred_h/2.)*IMG_SIZE)\n",
    "    if xmin > pred_xmax or xmax < pred_xmin or ymin > pred_ymax or ymax < pred_ymin:\n",
    "        continue\n",
    "    w_union = np.max((xmax, pred_xmax)) - np.min((xmin,pred_xmin))\n",
    "    h_union = np.max((ymax, pred_ymax)) - np.min((ymin,pred_ymin))\n",
    "    w_inter = np.min((xmax, pred_xmax)) - np.max((xmin,pred_xmin))\n",
    "    h_inter = np.min((ymax, pred_ymax)) - np.max((ymin,pred_ymin))\n",
    "    \n",
    "    w_sub1 = np.abs(xmax - pred_xmax)\n",
    "    h_sub1 = np.abs(ymax - pred_ymax)\n",
    "    w_sub2 = np.abs(xmin - pred_xmin)\n",
    "    h_sub2 = np.abs(ymin - pred_ymin)\n",
    "    \n",
    "    iou = (w_inter * h_inter) / ((w_union * h_union) - (w_sub1 * h_sub1) - (w_sub2 * h_sub2))\n",
    "    avg_iou += iou \n",
    "avg_iou = avg_iou/N_TEST"
   ]
  },
  {
   "cell_type": "markdown",
   "metadata": {},
   "source": [
    "## 하이퍼파라미터 및 학습결과 저장"
   ]
  },
  {
   "cell_type": "code",
   "execution_count": null,
   "metadata": {},
   "outputs": [],
   "source": [
    "#학습 결과 저장용 데이터프레임 생성\n",
    "data = DataFrame(columns=['key','train data len', \n",
    "                          'validation data len',\n",
    "                          'EPOCHS',\n",
    "                          'learning_rate_schedule',\n",
    "                          'batch size',\n",
    "                          'loss_func',\n",
    "                          'optimizer',\n",
    "                          'comment',\n",
    "                          'test_accuracy',\n",
    "                          'MeanIOU'\n",
    "                          'train time'\n",
    "                         ])\n",
    "#data = pd.read_csv('/content/gdrive/MyDrive/fire detection/result/HyperParameter_L.csv',encoding='euc-kr')\n",
    "data = pd.read_csv('./result/HyperParameter_L.csv',encoding='euc-kr')\n",
    "data"
   ]
  },
  {
   "cell_type": "code",
   "execution_count": null,
   "metadata": {
    "executionInfo": {
     "elapsed": 133,
     "status": "ok",
     "timestamp": 1623225017335,
     "user": {
      "displayName": "김은란/컴퓨터공학전공/학생",
      "photoUrl": "",
      "userId": "12771623514668636348"
     },
     "user_tz": -540
    },
    "id": "9tycIj5XsELy"
   },
   "outputs": [],
   "source": [
    "data = data.append({'key':filenamekey,\n",
    "                    'train data len': N_TRAIN, \n",
    "                    \"validation data len\":N_VAL,\n",
    "                    \"EPOCHS\":N_EPOCHS,\n",
    "                    \"learning_rate_schedule\":\"ExponentialDecay(initial_learning_rate={},decay_steps={},decay_rate=0.5,staircase=True)\".format(learning_rate,steps_per_epoch*2),\n",
    "                    \"batch size\":N_BATCH,\n",
    "                    \"loss_func\":'MSE',\n",
    "                    \"optimizer\":\"RMSprop\",\n",
    "                    \"comment\": \"초기 모델 + 데이터변경 + 데이터증강 + 배치정규화 + Dropout 0.4->0.2 + 출력층sigmoid\",\n",
    "                    \"test_accuracy\":loss_and_metrics[1],\n",
    "                    \"MeanIOU\":avg_iou,\n",
    "                    \"train time\":format(end-start, \".2f\")},ignore_index=True)"
   ]
  },
  {
   "cell_type": "code",
   "execution_count": null,
   "metadata": {
    "colab": {
     "base_uri": "https://localhost:8080/",
     "height": 150
    },
    "executionInfo": {
     "elapsed": 127,
     "status": "ok",
     "timestamp": 1623225017339,
     "user": {
      "displayName": "김은란/컴퓨터공학전공/학생",
      "photoUrl": "",
      "userId": "12771623514668636348"
     },
     "user_tz": -540
    },
    "id": "v8pTl2AYt3mM",
    "outputId": "ff1e6ca6-9299-43f1-8872-b3ff3d6e046d",
    "scrolled": true
   },
   "outputs": [],
   "source": [
    "data"
   ]
  },
  {
   "cell_type": "code",
   "execution_count": null,
   "metadata": {
    "id": "oxcr3veoxIgE"
   },
   "outputs": [],
   "source": [
    "#data.to_csv('/content/gdrive/MyDrive/fire detection/result/HyperParameter_L.csv',encoding='euc-kr')\n",
    "data.to_csv('./result/HyperParameter_L.csv',encoding='euc-kr',index=False)"
   ]
  },
  {
   "cell_type": "markdown",
   "metadata": {},
   "source": [
    "## 모델 예측 결과 시각화"
   ]
  },
  {
   "cell_type": "code",
   "execution_count": null,
   "metadata": {},
   "outputs": [],
   "source": [
    "for test_data, test_gt in test_dataset:\n",
    "    \n",
    "    w = test_gt[2]*IMG_SIZE\n",
    "    h = test_gt[3]*IMG_SIZE\n",
    "    x = (test_gt[0]-test_gt[2]/2.)*IMG_SIZE\n",
    "    y = (test_gt[1]-test_gt[3]/2.)*IMG_SIZE\n",
    "    print(x,y,w,h)\n",
    "    test_data = test_data[tf.newaxis,...]\n",
    "    prediction = model.predict(test_data)\n",
    "    \n",
    "    pred_w = prediction[0][2]*IMG_SIZE\n",
    "    pred_h = prediction[0][3]*IMG_SIZE\n",
    "    pred_x = (prediction[0][0]- prediction[0][2]/2.)*IMG_SIZE\n",
    "    pred_y = (prediction[0][1]- prediction[0][3]/2.)*IMG_SIZE\n",
    "    \n",
    "    \n",
    "    rect1 = Rectangle((x, y), w, h, fill=False, color='red')\n",
    "    rect2 = Rectangle((pred_x, pred_y), pred_w, pred_h, fill=False, color='blue')\n",
    "    \n",
    "    plt.axes().add_patch(rect1)\n",
    "    plt.axes().add_patch(rect2)\n",
    "    plt.imshow(test_data[0])\n",
    "    plt.show()\n"
   ]
  }
 ],
 "metadata": {
  "colab": {
   "collapsed_sections": [],
   "name": "Fire_Localization.ipynb",
   "provenance": []
  },
  "kernelspec": {
   "display_name": "Python 3",
   "language": "python",
   "name": "python3"
  },
  "language_info": {
   "codemirror_mode": {
    "name": "ipython",
    "version": 3
   },
   "file_extension": ".py",
   "mimetype": "text/x-python",
   "name": "python",
   "nbconvert_exporter": "python",
   "pygments_lexer": "ipython3",
   "version": "3.8.5"
  },
  "widgets": {
   "application/vnd.jupyter.widget-state+json": {
    "0a8d1dddabb445adb80dcffc91bfe261": {
     "model_module": "@jupyter-widgets/base",
     "model_name": "LayoutModel",
     "state": {
      "_model_module": "@jupyter-widgets/base",
      "_model_module_version": "1.2.0",
      "_model_name": "LayoutModel",
      "_view_count": null,
      "_view_module": "@jupyter-widgets/base",
      "_view_module_version": "1.2.0",
      "_view_name": "LayoutView",
      "align_content": null,
      "align_items": null,
      "align_self": null,
      "border": null,
      "bottom": null,
      "display": null,
      "flex": null,
      "flex_flow": null,
      "grid_area": null,
      "grid_auto_columns": null,
      "grid_auto_flow": null,
      "grid_auto_rows": null,
      "grid_column": null,
      "grid_gap": null,
      "grid_row": null,
      "grid_template_areas": null,
      "grid_template_columns": null,
      "grid_template_rows": null,
      "height": null,
      "justify_content": null,
      "justify_items": null,
      "left": null,
      "margin": null,
      "max_height": null,
      "max_width": null,
      "min_height": null,
      "min_width": null,
      "object_fit": null,
      "object_position": null,
      "order": null,
      "overflow": null,
      "overflow_x": null,
      "overflow_y": null,
      "padding": null,
      "right": null,
      "top": null,
      "visibility": null,
      "width": null
     }
    },
    "5c8e1daf92204a1196790130c5ef23ea": {
     "model_module": "@jupyter-widgets/base",
     "model_name": "LayoutModel",
     "state": {
      "_model_module": "@jupyter-widgets/base",
      "_model_module_version": "1.2.0",
      "_model_name": "LayoutModel",
      "_view_count": null,
      "_view_module": "@jupyter-widgets/base",
      "_view_module_version": "1.2.0",
      "_view_name": "LayoutView",
      "align_content": null,
      "align_items": null,
      "align_self": null,
      "border": null,
      "bottom": null,
      "display": null,
      "flex": null,
      "flex_flow": null,
      "grid_area": null,
      "grid_auto_columns": null,
      "grid_auto_flow": null,
      "grid_auto_rows": null,
      "grid_column": null,
      "grid_gap": null,
      "grid_row": null,
      "grid_template_areas": null,
      "grid_template_columns": null,
      "grid_template_rows": null,
      "height": null,
      "justify_content": null,
      "justify_items": null,
      "left": null,
      "margin": null,
      "max_height": null,
      "max_width": null,
      "min_height": null,
      "min_width": null,
      "object_fit": null,
      "object_position": null,
      "order": null,
      "overflow": null,
      "overflow_x": null,
      "overflow_y": null,
      "padding": null,
      "right": null,
      "top": null,
      "visibility": null,
      "width": null
     }
    },
    "679ab9d2639e45b18a48d00c2c7e271e": {
     "model_module": "@jupyter-widgets/controls",
     "model_name": "ProgressStyleModel",
     "state": {
      "_model_module": "@jupyter-widgets/controls",
      "_model_module_version": "1.5.0",
      "_model_name": "ProgressStyleModel",
      "_view_count": null,
      "_view_module": "@jupyter-widgets/base",
      "_view_module_version": "1.2.0",
      "_view_name": "StyleView",
      "bar_color": null,
      "description_width": "initial"
     }
    },
    "71ac9213895f46fea3601beba3e653b5": {
     "model_module": "@jupyter-widgets/controls",
     "model_name": "DescriptionStyleModel",
     "state": {
      "_model_module": "@jupyter-widgets/controls",
      "_model_module_version": "1.5.0",
      "_model_name": "DescriptionStyleModel",
      "_view_count": null,
      "_view_module": "@jupyter-widgets/base",
      "_view_module_version": "1.2.0",
      "_view_name": "StyleView",
      "description_width": ""
     }
    },
    "796cce7c84254996b8d2d05f7b9984e4": {
     "model_module": "@jupyter-widgets/controls",
     "model_name": "HTMLModel",
     "state": {
      "_dom_classes": [],
      "_model_module": "@jupyter-widgets/controls",
      "_model_module_version": "1.5.0",
      "_model_name": "HTMLModel",
      "_view_count": null,
      "_view_module": "@jupyter-widgets/controls",
      "_view_module_version": "1.5.0",
      "_view_name": "HTMLView",
      "description": "",
      "description_tooltip": null,
      "layout": "IPY_MODEL_5c8e1daf92204a1196790130c5ef23ea",
      "placeholder": "​",
      "style": "IPY_MODEL_71ac9213895f46fea3601beba3e653b5",
      "value": " 123/123 [00:01&lt;00:00, 82.01it/s]"
     }
    },
    "90f7adfdd23a4b1f87348260cc4b2579": {
     "model_module": "@jupyter-widgets/base",
     "model_name": "LayoutModel",
     "state": {
      "_model_module": "@jupyter-widgets/base",
      "_model_module_version": "1.2.0",
      "_model_name": "LayoutModel",
      "_view_count": null,
      "_view_module": "@jupyter-widgets/base",
      "_view_module_version": "1.2.0",
      "_view_name": "LayoutView",
      "align_content": null,
      "align_items": null,
      "align_self": null,
      "border": null,
      "bottom": null,
      "display": null,
      "flex": null,
      "flex_flow": null,
      "grid_area": null,
      "grid_auto_columns": null,
      "grid_auto_flow": null,
      "grid_auto_rows": null,
      "grid_column": null,
      "grid_gap": null,
      "grid_row": null,
      "grid_template_areas": null,
      "grid_template_columns": null,
      "grid_template_rows": null,
      "height": null,
      "justify_content": null,
      "justify_items": null,
      "left": null,
      "margin": null,
      "max_height": null,
      "max_width": null,
      "min_height": null,
      "min_width": null,
      "object_fit": null,
      "object_position": null,
      "order": null,
      "overflow": null,
      "overflow_x": null,
      "overflow_y": null,
      "padding": null,
      "right": null,
      "top": null,
      "visibility": null,
      "width": null
     }
    },
    "9bfbbcf696b649578e95726d78aa3818": {
     "model_module": "@jupyter-widgets/controls",
     "model_name": "FloatProgressModel",
     "state": {
      "_dom_classes": [],
      "_model_module": "@jupyter-widgets/controls",
      "_model_module_version": "1.5.0",
      "_model_name": "FloatProgressModel",
      "_view_count": null,
      "_view_module": "@jupyter-widgets/controls",
      "_view_module_version": "1.5.0",
      "_view_name": "ProgressView",
      "bar_style": "success",
      "description": "100%",
      "description_tooltip": null,
      "layout": "IPY_MODEL_90f7adfdd23a4b1f87348260cc4b2579",
      "max": 123,
      "min": 0,
      "orientation": "horizontal",
      "style": "IPY_MODEL_679ab9d2639e45b18a48d00c2c7e271e",
      "value": 123
     }
    },
    "bf7773e07206415aba54567d44d72cd3": {
     "model_module": "@jupyter-widgets/controls",
     "model_name": "HBoxModel",
     "state": {
      "_dom_classes": [],
      "_model_module": "@jupyter-widgets/controls",
      "_model_module_version": "1.5.0",
      "_model_name": "HBoxModel",
      "_view_count": null,
      "_view_module": "@jupyter-widgets/controls",
      "_view_module_version": "1.5.0",
      "_view_name": "HBoxView",
      "box_style": "",
      "children": [
       "IPY_MODEL_9bfbbcf696b649578e95726d78aa3818",
       "IPY_MODEL_796cce7c84254996b8d2d05f7b9984e4"
      ],
      "layout": "IPY_MODEL_0a8d1dddabb445adb80dcffc91bfe261"
     }
    }
   }
  }
 },
 "nbformat": 4,
 "nbformat_minor": 1
}
